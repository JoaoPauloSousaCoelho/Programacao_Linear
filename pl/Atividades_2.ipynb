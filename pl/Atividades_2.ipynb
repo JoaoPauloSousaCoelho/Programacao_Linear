{
 "cells": [
  {
   "cell_type": "code",
   "execution_count": 8,
   "metadata": {},
   "outputs": [],
   "source": [
    "from pulp import *"
   ]
  },
  {
   "cell_type": "code",
   "execution_count": 9,
   "metadata": {},
   "outputs": [
    {
     "name": "stdout",
     "output_type": "stream",
     "text": [
      "Status:  Optimal\n",
      "x1 =  0.8\n",
      "x2 =  0.0\n",
      "x3 =  3.2\n",
      "x4 =  0.6\n",
      "Valor máximo =  0.8\n"
     ]
    }
   ],
   "source": [
    "# Problema do sapateiro - Exemplo de aula\n",
    "prob = LpProblem(\"Exercicio_1\", LpMaximize)\n",
    "\n",
    "# Definicao das variaveis de decisao\n",
    "x1 = LpVariable(\"x1\", 0, None)\n",
    "x2 = LpVariable(\"x2\", 0, None)\n",
    "x3 = LpVariable(\"x3\", 0, None)\n",
    "x4 = LpVariable(\"x4\", 0, None)\n",
    "\n",
    "# Definicao da funcao objetivo\n",
    "prob += x1\n",
    "\n",
    "# Definicao das restricoes\n",
    "prob += 5*x1 + x2 == 4 \n",
    "prob += 6*x1 + x3 == 8\n",
    "prob += 3*x1 + x4 == 3\n",
    "\n",
    "#prob.writeLP(\"Letra_a\")\n",
    "\n",
    "# Resolvendo o problema\n",
    "prob.solve()\n",
    "\n",
    "# Status de solucao do problema\n",
    "print('Status: ', LpStatus[prob.status])\n",
    "\n",
    "# Imprimindo os valores das variaveis de decisao\n",
    "for v in prob.variables():\n",
    "    print(v.name, \"= \", v.varValue)\n",
    "\n",
    "# Lucro total\n",
    "print(\"Valor máximo = \", value(prob.objective)) \n"
   ]
  },
  {
   "cell_type": "code",
   "execution_count": 10,
   "metadata": {},
   "outputs": [
    {
     "name": "stdout",
     "output_type": "stream",
     "text": [
      "Status:  Optimal\n",
      "x1 =  0.0\n",
      "x2 =  4.0\n",
      "x3 =  8.0\n",
      "x4 =  3.0\n",
      "Valor mínimo =  0.0\n"
     ]
    }
   ],
   "source": [
    "# Problema do sapateiro - Exemplo de aula\n",
    "prob = LpProblem(\"Exercicio_1\", LpMinimize)\n",
    "\n",
    "# Definicao das variaveis de decisao\n",
    "x1 = LpVariable(\"x1\", 0, None)\n",
    "x2 = LpVariable(\"x2\", 0, None)\n",
    "x3 = LpVariable(\"x3\", 0, None)\n",
    "x4 = LpVariable(\"x4\", 0, None)\n",
    "\n",
    "# Definicao da funcao objetivo\n",
    "prob += x1\n",
    "\n",
    "# Definicao das restricoes\n",
    "prob += 5*x1 + x2 == 4 \n",
    "prob += 6*x1 + x3 == 8\n",
    "prob += 3*x1 + x4 == 3\n",
    "\n",
    "#prob.writeLP(\"Letra_a\")\n",
    "\n",
    "# Resolvendo o problema\n",
    "prob.solve()\n",
    "\n",
    "# Status de solucao do problema\n",
    "print('Status: ', LpStatus[prob.status])\n",
    "\n",
    "# Imprimindo os valores das variaveis de decisao\n",
    "for v in prob.variables():\n",
    "    print(v.name, \"= \", v.varValue)\n",
    "\n",
    "# Lucro total\n",
    "print(\"Valor mínimo = \", value(prob.objective)) "
   ]
  },
  {
   "cell_type": "code",
   "execution_count": 16,
   "metadata": {},
   "outputs": [
    {
     "name": "stdout",
     "output_type": "stream",
     "text": [
      "Status:  Optimal\n",
      "x1 =  0.0\n",
      "x2 =  2.0\n",
      "x3 =  2.0001778e-12\n",
      "Valor mínimo =  4.000000000008001\n"
     ]
    }
   ],
   "source": [
    "# Problema do sapateiro - Exemplo de aula\n",
    "prob = LpProblem(\"Exercicio_1\", LpMaximize)\n",
    "\n",
    "# Definicao das variaveis de decisao\n",
    "x1 = LpVariable(\"x1\", 0, None)\n",
    "x2 = LpVariable(\"x2\", 0, None)\n",
    "x3 = LpVariable(\"x3\", 0, None)\n",
    "\n",
    "# Definicao da funcao objetivo\n",
    "prob += 2*x1 + 2*x2 + 4*x3\n",
    "\n",
    "# Definicao das restricoes\n",
    "prob += 2*x1 + x2 + x3 <= 2\n",
    "prob += 3*x1 + 4*x2 + 2*x3 >= 8\n",
    "\n",
    "#prob.writeLP(\"Letra_a\")\n",
    "\n",
    "# Resolvendo o problema\n",
    "prob.solve()\n",
    "\n",
    "# Status de solucao do problema\n",
    "print('Status: ', LpStatus[prob.status])\n",
    "\n",
    "# Imprimindo os valores das variaveis de decisao\n",
    "for v in prob.variables():\n",
    "    print(v.name, \"= \", v.varValue)\n",
    "\n",
    "# Lucro total\n",
    "print(\"Valor mínimo = \", value(prob.objective)) \n"
   ]
  },
  {
   "cell_type": "code",
   "execution_count": 14,
   "metadata": {},
   "outputs": [
    {
     "name": "stdout",
     "output_type": "stream",
     "text": [
      "Status:  Optimal\n",
      "x1 =  0.0\n",
      "x2 =  5.0\n",
      "x3 =  0.0\n",
      "Valor mínimo =  10.0\n"
     ]
    }
   ],
   "source": [
    "# Problema do sapateiro - Exemplo de aula\n",
    "prob = LpProblem(\"Exercicio_1\", LpMaximize)\n",
    "\n",
    "# Definicao das variaveis de decisao\n",
    "x1 = LpVariable(\"x1\", 0, None)\n",
    "x2 = LpVariable(\"x2\", 0, None)\n",
    "x3 = LpVariable(\"x3\", 0, None)\n",
    "\n",
    "# Definicao da funcao objetivo\n",
    "prob += x1 + 2*x2 + 3*x3\n",
    "\n",
    "# Definicao das restricoes\n",
    "prob += x1 + 2*x2 + 3*x3 <= 10 \n",
    "prob += x1 + x2 <= 5\n",
    "prob += x1<= 1\n",
    "\n",
    "#prob.writeLP(\"Letra_a\")\n",
    "\n",
    "# Resolvendo o problema\n",
    "prob.solve()\n",
    "\n",
    "# Status de solucao do problema\n",
    "print('Status: ', LpStatus[prob.status])\n",
    "\n",
    "# Imprimindo os valores das variaveis de decisao\n",
    "for v in prob.variables():\n",
    "    print(v.name, \"= \", v.varValue)\n",
    "\n",
    "# Lucro total\n",
    "print(\"Valor mínimo = \", value(prob.objective)) "
   ]
  },
  {
   "cell_type": "code",
   "execution_count": 15,
   "metadata": {},
   "outputs": [
    {
     "name": "stdout",
     "output_type": "stream",
     "text": [
      "Status:  Unbounded\n",
      "x1 =  10.0\n",
      "x2 =  0.0\n",
      "x3 =  0.0\n",
      "Valor mínimo =  200.0\n"
     ]
    }
   ],
   "source": [
    "# Problema do sapateiro - Exemplo de aula\n",
    "prob = LpProblem(\"Exercicio_1\", LpMaximize)\n",
    "\n",
    "# Definicao das variaveis de decisao\n",
    "x1 = LpVariable(\"x1\", 0, None)\n",
    "x2 = LpVariable(\"x2\", 0, None)\n",
    "x3 = LpVariable(\"x3\", 0, None)\n",
    "\n",
    "# Definicao da funcao objetivo\n",
    "prob += 20*x1 + 10*x2 + 3*x3\n",
    "\n",
    "# Definicao das restricoes\n",
    "prob += 3*x1 - 3*x2 + 5*x3 <= 50 \n",
    "prob += x1 + x3 <= 10\n",
    "prob += x1 -x2 + 4*x3 <= 20\n",
    "\n",
    "#prob.writeLP(\"Letra_a\")\n",
    "\n",
    "# Resolvendo o problema\n",
    "prob.solve()\n",
    "\n",
    "# Status de solucao do problema\n",
    "print('Status: ', LpStatus[prob.status])\n",
    "\n",
    "# Imprimindo os valores das variaveis de decisao\n",
    "for v in prob.variables():\n",
    "    print(v.name, \"= \", v.varValue)\n",
    "\n",
    "# Lucro total\n",
    "print(\"Valor mínimo = \", value(prob.objective)) "
   ]
  }
 ],
 "metadata": {
  "kernelspec": {
   "display_name": "Python 3",
   "language": "python",
   "name": "python3"
  },
  "language_info": {
   "codemirror_mode": {
    "name": "ipython",
    "version": 3
   },
   "file_extension": ".py",
   "mimetype": "text/x-python",
   "name": "python",
   "nbconvert_exporter": "python",
   "pygments_lexer": "ipython3",
   "version": "3.11.0"
  },
  "orig_nbformat": 4
 },
 "nbformat": 4,
 "nbformat_minor": 2
}
