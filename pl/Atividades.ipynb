{
 "cells": [
  {
   "cell_type": "code",
   "execution_count": 2,
   "metadata": {},
   "outputs": [],
   "source": [
    "# Importando a biblioteca\n",
    "from pulp import *"
   ]
  },
  {
   "attachments": {},
   "cell_type": "markdown",
   "metadata": {},
   "source": [
    "#### Exemplo 1 - Problema do Sapateiro"
   ]
  },
  {
   "cell_type": "code",
   "execution_count": 164,
   "metadata": {},
   "outputs": [
    {
     "name": "stdout",
     "output_type": "stream",
     "text": [
      "Status:  Optimal\n",
      "total_cintos =  0.0\n",
      "total_sapatos =  3.0\n",
      "Lucro total da producao de sapatos =  15.0\n"
     ]
    }
   ],
   "source": [
    "# Problema do sapateiro - Exemplo de aula\n",
    "prob = LpProblem(\"Problema do Sapateiro\", LpMaximize)\n",
    "\n",
    "# Definicao das variaveis de decisao\n",
    "x1 = LpVariable(\"total_sapatos\", 0, None, LpInteger)\n",
    "x2 = LpVariable(\"total_cintos\", 0, None, LpInteger)\n",
    "\n",
    "# Definicao da funcao objetivo\n",
    "prob += 5 * x1 + 2 * x2\n",
    "\n",
    "# Definicao das restricoes\n",
    "prob += 2*x1 + x2 <= 6 # Restricao da quantidade de couro\n",
    "prob += (x1*(1/6)) + (x2*(1/5)) <= 8 # Restricao da quantidade de horas trabalhadas por dia\n",
    "\n",
    "prob.writeLP(\"Problema_Sapateiro\")\n",
    "\n",
    "# Resolvendo o problema\n",
    "prob.solve()\n",
    "\n",
    "# Status de solucao do problema\n",
    "print('Status: ', LpStatus[prob.status])\n",
    "\n",
    "# Imprimindo os valores das variaveis de decisao\n",
    "for v in prob.variables():\n",
    "    print(v.name, \"= \", v.varValue)\n",
    "\n",
    "# Lucro total\n",
    "print(\"Lucro total da producao de sapatos = \", value(prob.objective))    "
   ]
  },
  {
   "attachments": {},
   "cell_type": "markdown",
   "metadata": {},
   "source": [
    "### Resolucao da Lista I"
   ]
  },
  {
   "attachments": {},
   "cell_type": "markdown",
   "metadata": {},
   "source": [
    "#### Exercicio 1"
   ]
  },
  {
   "cell_type": "code",
   "execution_count": 3,
   "metadata": {},
   "outputs": [
    {
     "name": "stderr",
     "output_type": "stream",
     "text": [
      "c:\\Users\\CG395UV\\OneDrive - EY\\Documents\\Doutorado_JP\\Programacao_Linear\\pl\\lib\\site-packages\\pulp\\pulp.py:1352: UserWarning: Spaces are not permitted in the name. Converted to '_'\n",
      "  warnings.warn(\"Spaces are not permitted in the name. Converted to '_'\")\n"
     ]
    },
    {
     "name": "stdout",
     "output_type": "stream",
     "text": [
      "Status:  Optimal\n",
      "Area_ARROZ =  800.0\n",
      "Area_MILHO =  10000.0\n",
      "Area_TRIGO =  189200.0\n",
      "Lucro total de producao =  417800.0\n"
     ]
    }
   ],
   "source": [
    "# Criando a lista de produtos\n",
    "produtos = ['TRIGO', 'ARROZ', 'MILHO']\n",
    "\n",
    "# Dicionario contendo as produtividades\n",
    "produtividade = {\n",
    "    \"TRIGO\": 0.2,\n",
    "    \"ARROZ\": 0.3,\n",
    "    \"MILHO\": 0.4\n",
    "}\n",
    "\n",
    "# Dicionario contendo a lucratividade dos produtos\n",
    "lucratividade = {\n",
    "    \"TRIGO\": 10.8,\n",
    "    \"ARROZ\": 4.2,\n",
    "    \"MILHO\": 2.03\n",
    "}\n",
    "\n",
    "# Producao Minima\n",
    "area_min = {\n",
    "     \"TRIGO\": 400,\n",
    "    \"ARROZ\": 800,\n",
    "    \"MILHO\": 10000\n",
    "}\n",
    "\n",
    "# Definindo o problema de otimizacao\n",
    "prob = LpProblem(\"Mix de producao de sacas\", LpMaximize)\n",
    "\n",
    "# Definindo as variaveis de decisao\n",
    "area_vars = LpVariable.dicts(\"Area\", produtos, 0)\n",
    "\n",
    "# Definicao da funcao objetivo\n",
    "prob += (\n",
    "    lpSum([lucratividade[i] * produtividade[i]*area_vars[i] for i in produtos])\n",
    ")\n",
    "\n",
    "# Definicao das restricoes\n",
    "prob += (\n",
    "    lpSum([area_vars[i]  for i in produtos]) <= 200000, \n",
    "    \"Restricao de area total disponivel\",\n",
    ")\n",
    "\n",
    "prob += (\n",
    "    lpSum([area_vars[i] * produtividade[i]  for i in produtos]) <= 60000, \n",
    "    \"Restricao capacidade de armazenamento de sacas\",\n",
    ")\n",
    "\n",
    "for i in produtos:\n",
    "    prob += area_vars[i] >= area_min[i], (\n",
    "        f\"Area_minima_produto_{i}\"\n",
    "    )\n",
    "\n",
    "# Salvando o arquivo na extensao lp\n",
    "prob.writeLP(\"Mix_Produtos_Sacas.lp\")\n",
    "\n",
    "# Resolvendo o problema\n",
    "prob.solve()   \n",
    "\n",
    "# Imprimindo o status\n",
    "print('Status: ', LpStatus[prob.status])\n",
    "\n",
    "# Recuperando os valores das variaveis\n",
    "for v in prob.variables():\n",
    "    print(v.name, \"= \", v.varValue)\n",
    "\n",
    "# Lucro total de producao\n",
    "print(\"Lucro total de producao = \", value(prob.objective))"
   ]
  },
  {
   "cell_type": "code",
   "execution_count": 4,
   "metadata": {},
   "outputs": [
    {
     "name": "stdout",
     "output_type": "stream",
     "text": [
      "Mix_de_producao_de_sacas:\n",
      "MAXIMIZE\n",
      "1.26*Area_ARROZ + 0.8119999999999999*Area_MILHO + 2.16*Area_TRIGO + 0.0\n",
      "SUBJECT TO\n",
      "Restricao_de_area_total_disponivel: Area_ARROZ + Area_MILHO + Area_TRIGO\n",
      " <= 200000\n",
      "\n",
      "Restricao_capacidade_de_armazenamento_de_sacas: 0.3 Area_ARROZ\n",
      " + 0.4 Area_MILHO + 0.2 Area_TRIGO <= 60000\n",
      "\n",
      "Area_minima_produto_TRIGO: Area_TRIGO >= 400\n",
      "\n",
      "Area_minima_produto_ARROZ: Area_ARROZ >= 800\n",
      "\n",
      "Area_minima_produto_MILHO: Area_MILHO >= 10000\n",
      "\n",
      "VARIABLES\n",
      "Area_ARROZ Continuous\n",
      "Area_MILHO Continuous\n",
      "Area_TRIGO Continuous\n",
      "\n"
     ]
    }
   ],
   "source": [
    "print(prob)"
   ]
  },
  {
   "attachments": {},
   "cell_type": "markdown",
   "metadata": {},
   "source": [
    "### Exercício 2"
   ]
  },
  {
   "cell_type": "code",
   "execution_count": 5,
   "metadata": {},
   "outputs": [
    {
     "name": "stderr",
     "output_type": "stream",
     "text": [
      "c:\\Users\\CG395UV\\OneDrive - EY\\Documents\\Doutorado_JP\\Programacao_Linear\\pl\\lib\\site-packages\\pulp\\pulp.py:1352: UserWarning: Spaces are not permitted in the name. Converted to '_'\n",
      "  warnings.warn(\"Spaces are not permitted in the name. Converted to '_'\")\n"
     ]
    },
    {
     "name": "stdout",
     "output_type": "stream",
     "text": [
      "Status:  Optimal\n",
      "Inv_A =  2500.0\n",
      "Inv_B =  2500.0\n",
      "Rendimento total dos investimentos =  325.0\n"
     ]
    }
   ],
   "source": [
    "# Definicao do Problema\n",
    "prob = LpProblem(\"Problema alocacao de investimento\", LpMaximize)\n",
    "\n",
    "# Definicao das variaveis de decisao\n",
    "x1 = LpVariable(\"Inv_A\", 0, None)\n",
    "x2 = LpVariable(\"Inv_B\", 0, None)\n",
    "\n",
    "# Definicao da funcao objetivo\n",
    "prob += ((1.05*x1 + 1.08*x2) - 5000,\n",
    "         \"Redimento calculado como delta entre o valor bruto e o valor inicial\")\n",
    "\n",
    "# Definicao das restricoes\n",
    "prob += (x1 + x2 == 5000,\n",
    "         \"Montante total de investimento\")\n",
    "prob += (x1 >= 0.25*5000,\n",
    "         \"recomendacao minima de investimento no produto A\") \n",
    "prob += (x2 <= 0.5*5000,\n",
    "         \"recomendacao minima de investimento no produto B\")    \n",
    "prob += (x1 >= 0.5*x2,\n",
    "         \"recomendacao minima da razao de investimento nos produto A e B\")\n",
    "\n",
    "# Escrita do modelo de otimizacao\n",
    "prob.writeLP(\"Problema_Alocacao_Investimento\")\n",
    "\n",
    "# Resolvendo o problema\n",
    "prob.solve()\n",
    "\n",
    "# Status de solucao do problema\n",
    "print('Status: ', LpStatus[prob.status])\n",
    "\n",
    "# Imprimindo os valores das variaveis de decisao\n",
    "for v in prob.variables():\n",
    "    print(v.name, \"= \", v.varValue)\n",
    "\n",
    "# Lucro total\n",
    "print(\"Rendimento total dos investimentos = \", value(prob.objective)) "
   ]
  },
  {
   "cell_type": "code",
   "execution_count": 6,
   "metadata": {},
   "outputs": [
    {
     "name": "stdout",
     "output_type": "stream",
     "text": [
      "Problema_alocacao_de_investimento:\n",
      "MAXIMIZE\n",
      "1.05*Inv_A + 1.08*Inv_B + -5000.0\n",
      "SUBJECT TO\n",
      "Montante_total_de_investimento: Inv_A + Inv_B = 5000\n",
      "\n",
      "recomendacao_minima_de_investimento_no_produto_A: Inv_A >= 1250\n",
      "\n",
      "recomendacao_minima_de_investimento_no_produto_B: Inv_B <= 2500\n",
      "\n",
      "recomendacao_minima_da_razao_de_investimento_nos_produto_A_e_B: Inv_A\n",
      " - 0.5 Inv_B >= 0\n",
      "\n",
      "VARIABLES\n",
      "Inv_A Continuous\n",
      "Inv_B Continuous\n",
      "\n"
     ]
    }
   ],
   "source": [
    "print(prob)"
   ]
  },
  {
   "attachments": {},
   "cell_type": "markdown",
   "metadata": {},
   "source": [
    "#### Exercicio 3"
   ]
  },
  {
   "cell_type": "code",
   "execution_count": 167,
   "metadata": {},
   "outputs": [
    {
     "name": "stdout",
     "output_type": "stream",
     "text": [
      "Status:  Optimal\n",
      "Radio =  60.606061\n",
      "TV =  30.30303\n",
      "Valor da Funcao Objetivo =  818.1818109999999\n"
     ]
    }
   ],
   "source": [
    "# Definicao do Problema\n",
    "prob = LpProblem(\"Problema alocacao de propaganda\", LpMaximize)\n",
    "\n",
    "# Definicao das variaveis de decisao\n",
    "x1 = LpVariable(\"Radio\", 0, None)\n",
    "x2 = LpVariable(\"TV\", 0, None)\n",
    "\n",
    "# Definicao da funcao objetivo\n",
    "prob += 25*x2 + x1\n",
    "\n",
    "# Definicao das restricoes\n",
    "prob += (15*x1 + 300*x2 <= 10000,\n",
    "        \"Verba Disponivel para gasto c/ propoganda\")\n",
    "prob += (x1 >= 2*x2,\n",
    "         \"Preferencia de alocacao de gastos em propoganda\")\n",
    "prob += (x1 <= 400,\n",
    "         \"Restricao da quantidade de minutos para radio\")\n",
    "\n",
    "# Escrita do modelo criado \n",
    "prob.writeLP(\"Problema_Alocacao_Propaganda\")\n",
    "\n",
    "# Resolvendo o problema\n",
    "prob.solve()\n",
    "\n",
    "# Status de solucao do problema\n",
    "print('Status: ', LpStatus[prob.status])\n",
    "\n",
    "# Imprimindo os valores das variaveis de decisao\n",
    "for v in prob.variables():\n",
    "    print(v.name, \"= \", v.varValue)\n",
    "\n",
    "# Valor da funcao objetivo\n",
    "print(\"Valor da Funcao Objetivo = \", value(prob.objective)) "
   ]
  },
  {
   "attachments": {},
   "cell_type": "markdown",
   "metadata": {},
   "source": [
    "#### Exercício 4"
   ]
  },
  {
   "cell_type": "code",
   "execution_count": 169,
   "metadata": {},
   "outputs": [
    {
     "name": "stdout",
     "output_type": "stream",
     "text": [
      "Status:  Optimal\n",
      "qtde_ap_ALUGUEL =  10000.0\n",
      "qtde_ap_DUPLEX =  228.57143\n",
      "qtde_ap_FUNCIONAL =  207.14286\n",
      "qtde_ap_RESIDENCIAL =  250.0\n",
      "Receita total =  1595714.2885\n"
     ]
    }
   ],
   "source": [
    "# Definicao da lista com as variaveis de decisao\n",
    "tipo = ['FUNCIONAL', 'DUPLEX', 'RESIDENCIAL', 'ALUGUEL']\n",
    "\n",
    "# Proporcao em relacao a quantidade de apartamentos para o calculo da area alugavel\n",
    "razao_aluguel = {\n",
    "    \"FUNCIONAL\": 10,\n",
    "    \"DUPLEX\": 15,\n",
    "    \"RESIDENCIAL\": 18\n",
    "}\n",
    "\n",
    "# Demanda de apartamentos\n",
    "demanda = {\n",
    "    \"FUNCIONAL\": 500,\n",
    "    \"DUPLEX\": 300,\n",
    "    \"RESIDENCIAL\": 250\n",
    "}\n",
    "\n",
    "# Receita esperada\n",
    "receita = {\n",
    "    \"FUNCIONAL\": 600,\n",
    "    \"DUPLEX\": 750,\n",
    "    \"RESIDENCIAL\": 1200,\n",
    "    \"ALUGUEL\": 100\n",
    "}\n",
    "\n",
    "# Definindo o problema de otimizacao\n",
    "prob = LpProblem(\"Alocacao Aluguel Terreno\", LpMaximize)\n",
    "\n",
    "# Definindo as variaveis de decisao\n",
    "vars = LpVariable.dicts(\"qtde_ap\", tipo, 0)\n",
    "\n",
    "# Definicao da funcao objetivo\n",
    "prob += (\n",
    "    lpSum([receita[i] * vars[i] for i in tipo]),\n",
    "    \"Calculo da receita esperada\"\n",
    ")\n",
    "\n",
    "# Definicao das restricoes\n",
    "prob +=(\n",
    "   lpSum([vars[i]*razao_aluguel[i] for i in tipo if i != 'ALUGUEL'])<= vars['ALUGUEL'],\n",
    "   \"Restricao para o calculo da area considerando as propor\"\n",
    ")\n",
    "\n",
    "for i in tipo:\n",
    "    if i != 'ALUGUEL':\n",
    "        prob += vars[i] <= demanda[i], (\n",
    "            f\"Area_minima_produto_{i}\"\n",
    "            )   \n",
    "\n",
    "    if i == \"DUPLEX\":\n",
    "        prob += vars[i] >= 0.5*(vars['FUNCIONAL'] + vars['RESIDENCIAL'])\n",
    "         \n",
    "\n",
    "    if i == 'ALUGUEL':                   \n",
    "        prob +=  vars[i]<= 10000\n",
    "    \n",
    "\n",
    "# Salvando o arquivo na extensao lp\n",
    "prob.writeLP(\"alocacao_terreno_aluguel.lp\")\n",
    "\n",
    "# Resolvendo o problema\n",
    "prob.solve()  \n",
    "\n",
    "# Imprimindo o status\n",
    "print('Status: ', LpStatus[prob.status])\n",
    "\n",
    "# Recuperando os valores das variaveis\n",
    "for v in prob.variables():\n",
    "    print(v.name, \"= \", v.varValue)\n",
    "\n",
    "# Lucro total de producao\n",
    "print(\"Receita total = \", value(prob.objective))"
   ]
  },
  {
   "attachments": {},
   "cell_type": "markdown",
   "metadata": {},
   "source": [
    "#### Exercício 5"
   ]
  },
  {
   "cell_type": "code",
   "execution_count": 170,
   "metadata": {},
   "outputs": [
    {
     "name": "stdout",
     "output_type": "stream",
     "text": [
      "Status:  Optimal\n",
      "A =  40.0\n",
      "B =  15.0\n",
      "C =  45.0\n",
      "Total de Pontos =  205.0\n"
     ]
    }
   ],
   "source": [
    "# Definicao do Problema\n",
    "prob = LpProblem(\"Problema distribuicao horas de estudo\", LpMaximize)\n",
    "\n",
    "# Definicao das variaveis de decisao\n",
    "x1 = LpVariable(\"A\", 0, None)\n",
    "x2 = LpVariable(\"B\", 0, None)\n",
    "x3 = LpVariable(\"C\", 0, None)\n",
    "\n",
    "# Definicao da funcao objetivo\n",
    "prob += x1 + 2*x2 + 3*x3\n",
    "\n",
    "# Definicao das restricoes\n",
    "prob += (x1 + x2 + x3 == 100, \n",
    "         \"Restricao quantidade total de horas\")\n",
    "prob += ((x1 + 60) >= 100,\n",
    "         \"Restricao media de pontos necessaria na disciplina A\") \n",
    "prob += ((2*x2 + 70) >= 100,\n",
    "         \"Restricao media de pontos necessaria na disciplina B\")\n",
    "prob += ((3*x3 + 100) >= 100,\n",
    "         \"Restricao media de pontos necessaria na disciplina C\")\n",
    "\n",
    "# Salvando o modelo\n",
    "prob.writeLP(\"Problema_Alocacao_Propaganda\")\n",
    "\n",
    "# Resolvendo o problema\n",
    "prob.solve()\n",
    "\n",
    "# Status de solucao do problema\n",
    "print('Status: ', LpStatus[prob.status])\n",
    "\n",
    "# Imprimindo os valores das variaveis de decisao\n",
    "for v in prob.variables():\n",
    "    print(v.name, \"= \", v.varValue)\n",
    "\n",
    "# Total de pontos\n",
    "print(\"Total de Pontos = \", value(prob.objective)) "
   ]
  },
  {
   "cell_type": "code",
   "execution_count": null,
   "metadata": {},
   "outputs": [],
   "source": []
  }
 ],
 "metadata": {
  "kernelspec": {
   "display_name": "pl",
   "language": "python",
   "name": "python3"
  },
  "language_info": {
   "codemirror_mode": {
    "name": "ipython",
    "version": 3
   },
   "file_extension": ".py",
   "mimetype": "text/x-python",
   "name": "python",
   "nbconvert_exporter": "python",
   "pygments_lexer": "ipython3",
   "version": "3.7.13"
  },
  "orig_nbformat": 4
 },
 "nbformat": 4,
 "nbformat_minor": 2
}
