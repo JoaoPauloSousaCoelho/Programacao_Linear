{
 "cells": [
  {
   "cell_type": "code",
   "execution_count": 1,
   "metadata": {},
   "outputs": [],
   "source": [
    "# Importando a biblioteca\n",
    "from pulp import *"
   ]
  },
  {
   "attachments": {},
   "cell_type": "markdown",
   "metadata": {},
   "source": [
    "#### Exemplo 1 - Problema do Sapateiro"
   ]
  },
  {
   "cell_type": "code",
   "execution_count": 5,
   "metadata": {},
   "outputs": [
    {
     "name": "stderr",
     "output_type": "stream",
     "text": [
      "c:\\Users\\CG395UV\\OneDrive - EY\\Documents\\Doutorado_JP\\Programacao_Linear\\pl\\lib\\site-packages\\pulp\\pulp.py:1352: UserWarning: Spaces are not permitted in the name. Converted to '_'\n",
      "  warnings.warn(\"Spaces are not permitted in the name. Converted to '_'\")\n"
     ]
    },
    {
     "name": "stdout",
     "output_type": "stream",
     "text": [
      "Status:  Optimal\n",
      "total_cintos =  0.0\n",
      "total_sapatos =  3.0\n",
      "Lucro total da producao de sapatos =  15.0\n"
     ]
    }
   ],
   "source": [
    "# Problema do sapateiro - Exemplo de aula\n",
    "prob = LpProblem(\"Problema do Sapateiro\", LpMaximize)\n",
    "\n",
    "# Definicao das variaveis de decisao\n",
    "x1 = LpVariable(\"total_sapatos\", 0, None, LpInteger)\n",
    "x2 = LpVariable(\"total_cintos\", 0, None, LpInteger)\n",
    "\n",
    "# Definicao da funcao objetivo\n",
    "prob += 5 * x1 + 2 * x2\n",
    "\n",
    "# Definicao das restricoes\n",
    "prob += 2*x1 + x2 <= 6 # Restricao da quantidade de couro\n",
    "prob += (x1*(1/6)) + (x2*(1/5)) <= 8 # Restricao da quantidade de horas trabalhadas por dia\n",
    "\n",
    "prob.writeLP(\"Problema_Sapateiro\")\n",
    "\n",
    "# Resolvendo o problema\n",
    "prob.solve()\n",
    "\n",
    "# Status de solucao do problema\n",
    "print('Status: ', LpStatus[prob.status])\n",
    "\n",
    "# Imprimindo os valores das variaveis de decisao\n",
    "for v in prob.variables():\n",
    "    print(v.name, \"= \", v.varValue)\n",
    "\n",
    "# Lucro total\n",
    "print(\"Lucro total da producao de sapatos = \", value(prob.objective))    "
   ]
  },
  {
   "attachments": {},
   "cell_type": "markdown",
   "metadata": {},
   "source": [
    "### Resolucao da Lista I"
   ]
  },
  {
   "attachments": {},
   "cell_type": "markdown",
   "metadata": {},
   "source": [
    "#### Exercicio 1"
   ]
  },
  {
   "cell_type": "code",
   "execution_count": 38,
   "metadata": {},
   "outputs": [
    {
     "name": "stdout",
     "output_type": "stream",
     "text": [
      "Status:  Optimal\n",
      "Area_ARROZ =  800.0\n",
      "Area_MILHO =  10000.0\n",
      "Area_TRIGO =  189200.0\n",
      "Lucro total de producao =  417800.0\n"
     ]
    }
   ],
   "source": [
    "# Criando a lista de produtos\n",
    "produtos = ['TRIGO', 'ARROZ', 'MILHO']\n",
    "\n",
    "# Dicionario contendo as produtividades\n",
    "produtividade = {\n",
    "    \"TRIGO\": 0.2,\n",
    "    \"ARROZ\": 0.3,\n",
    "    \"MILHO\": 0.4\n",
    "}\n",
    "\n",
    "# Dicionario contendo a lucratividade dos produtos\n",
    "lucratividade = {\n",
    "    \"TRIGO\": 10.8,\n",
    "    \"ARROZ\": 4.2,\n",
    "    \"MILHO\": 2.03\n",
    "}\n",
    "\n",
    "# Producao Minima\n",
    "area_min = {\n",
    "     \"TRIGO\": 400,\n",
    "    \"ARROZ\": 800,\n",
    "    \"MILHO\": 10000\n",
    "}\n",
    "\n",
    "# Definindo o problema de otimizacao\n",
    "prob = LpProblem(\"Mix de producao de sacas\", LpMaximize)\n",
    "\n",
    "# Definindo as variaveis de decisao\n",
    "area_vars = LpVariable.dicts(\"Area\", produtos, 0)\n",
    "\n",
    "# Definicao da funcao objetivo\n",
    "prob += (\n",
    "    lpSum([lucratividade[i] * produtividade[i]*area_vars[i] for i in produtos])\n",
    ")\n",
    "\n",
    "# Definicao das restricoes\n",
    "prob += (\n",
    "    lpSum([area_vars[i]  for i in produtos]) <= 200000, \n",
    "    \"Restricao de area total disponivel\",\n",
    ")\n",
    "\n",
    "prob += (\n",
    "    lpSum([area_vars[i] * produtividade[i]  for i in produtos]) <= 60000, \n",
    "    \"Restricao capacidade de armazenamento de sacas\",\n",
    ")\n",
    "\n",
    "for i in produtos:\n",
    "    prob += area_vars[i] >= area_min[i], (\n",
    "        f\"Area_minima_produto_{i}\"\n",
    "    )\n",
    "\n",
    "# Salvando o arquivo na extensao lp\n",
    "prob.writeLP(\"WhiskasModel.lp\")\n",
    "\n",
    "# Resolvendo o problema\n",
    "prob.solve()   \n",
    "\n",
    "# Imprimindo o status\n",
    "print('Status: ', LpStatus[prob.status])\n",
    "\n",
    "# Recuperando os valores das variaveis\n",
    "for v in prob.variables():\n",
    "    print(v.name, \"= \", v.varValue)\n",
    "\n",
    "# Lucro total de producao\n",
    "print(\"Lucro total de producao = \", value(prob.objective))"
   ]
  },
  {
   "attachments": {},
   "cell_type": "markdown",
   "metadata": {},
   "source": [
    "### Exercício 2"
   ]
  },
  {
   "cell_type": "code",
   "execution_count": 44,
   "metadata": {},
   "outputs": [
    {
     "name": "stdout",
     "output_type": "stream",
     "text": [
      "Status:  Optimal\n",
      "Inv_A =  2500.0\n",
      "Inv_B =  2500.0\n",
      "Rendimento total dos investimentos =  325.0\n"
     ]
    }
   ],
   "source": [
    "# Problema do sapateiro - Exemplo de aula\n",
    "prob = LpProblem(\"Problema alocacao de investimento\", LpMaximize)\n",
    "\n",
    "# Definicao das variaveis de decisao\n",
    "x1 = LpVariable(\"Inv_A\", 0, None)\n",
    "x2 = LpVariable(\"Inv_B\", 0, None)\n",
    "\n",
    "# Definicao da funcao objetivo\n",
    "prob += (1.05*x1 + 1.08*x2) - 5000\n",
    "\n",
    "# Definicao das restricoes\n",
    "prob += x1 + x2 == 5000\n",
    "prob += x1 >= 0.25*5000 # Restricao da quantidade de couro\n",
    "prob += x2 <= 0.5*5000 # Restricao da quantidade de horas trabalhadas por dia\n",
    "prob += x1 >= 0.5*x2\n",
    "prob.writeLP(\"Problema_Sapateiro\")\n",
    "\n",
    "# Resolvendo o problema\n",
    "prob.solve()\n",
    "\n",
    "# Status de solucao do problema\n",
    "print('Status: ', LpStatus[prob.status])\n",
    "\n",
    "# Imprimindo os valores das variaveis de decisao\n",
    "for v in prob.variables():\n",
    "    print(v.name, \"= \", v.varValue)\n",
    "\n",
    "# Lucro total\n",
    "print(\"Rendimento total dos investimentos = \", value(prob.objective)) "
   ]
  },
  {
   "cell_type": "code",
   "execution_count": null,
   "metadata": {},
   "outputs": [],
   "source": []
  }
 ],
 "metadata": {
  "kernelspec": {
   "display_name": "pl",
   "language": "python",
   "name": "python3"
  },
  "language_info": {
   "codemirror_mode": {
    "name": "ipython",
    "version": 3
   },
   "file_extension": ".py",
   "mimetype": "text/x-python",
   "name": "python",
   "nbconvert_exporter": "python",
   "pygments_lexer": "ipython3",
   "version": "3.7.13"
  },
  "orig_nbformat": 4
 },
 "nbformat": 4,
 "nbformat_minor": 2
}
