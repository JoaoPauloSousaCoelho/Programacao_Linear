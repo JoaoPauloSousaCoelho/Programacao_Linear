{
 "cells": [
  {
   "attachments": {},
   "cell_type": "markdown",
   "metadata": {},
   "source": [
    "### Transportation-Networks Problem"
   ]
  },
  {
   "cell_type": "code",
   "execution_count": 29,
   "metadata": {},
   "outputs": [],
   "source": [
    "from pyomo.environ import *"
   ]
  },
  {
   "cell_type": "code",
   "execution_count": 5,
   "metadata": {},
   "outputs": [],
   "source": [
    "Demand = {\n",
    "    'Lon': 125,\n",
    "    'Ber': 175,\n",
    "    'Maa': 225,\n",
    "    'Ams': 250,\n",
    "    'Utr': 225,\n",
    "    'Hag': 200\n",
    "}\n",
    "\n",
    "Supply = {\n",
    "    'Arn':600,\n",
    "    'Gou':650\n",
    "}\n",
    "\n",
    "T = {\n",
    "    ('Lon', 'Arn'): 1000,\n",
    "    ('Lon', 'Gou'): 2.5,\n",
    "    ('Ber', 'Arn'): 2.5,\n",
    "    ('Ber', 'Gou'): 1000,\n",
    "    ('Maa', 'Arn'): 1.6,\n",
    "    ('Maa', 'Gou'): 2.0,\n",
    "    ('Ams', 'Arn'): 1.4,\n",
    "    ('Ams', 'Gou'): 1.0,\n",
    "    ('Utr', 'Arn'): 0.8,\n",
    "    ('Utr', 'Gou'): 1.0,\n",
    "    ('Hag', 'Arn'): 1.4,\n",
    "    ('Hag', 'Gou'): 0.8\n",
    "}"
   ]
  },
  {
   "cell_type": "code",
   "execution_count": 80,
   "metadata": {},
   "outputs": [
    {
     "name": "stdout",
     "output_type": "stream",
     "text": [
      "# ==========================================================\n",
      "# = Solver Results                                         =\n",
      "# ==========================================================\n",
      "# ----------------------------------------------------------\n",
      "#   Problem Information\n",
      "# ----------------------------------------------------------\n",
      "Problem: \n",
      "- Name: unknown\n",
      "  Lower bound: 1705.0\n",
      "  Upper bound: 1705.0\n",
      "  Number of objectives: 1\n",
      "  Number of constraints: 9\n",
      "  Number of variables: 13\n",
      "  Number of nonzeros: 12\n",
      "  Sense: minimize\n",
      "# ----------------------------------------------------------\n",
      "#   Solver Information\n",
      "# ----------------------------------------------------------\n",
      "Solver: \n",
      "- Status: ok\n",
      "  User time: -1.0\n",
      "  System time: 0.01\n",
      "  Wallclock time: 0.0\n",
      "  Termination condition: optimal\n",
      "  Termination message: Model was solved to optimality (subject to tolerances), and an optimal solution is available.\n",
      "  Statistics: \n",
      "    Branch and bound: \n",
      "      Number of bounded subproblems: None\n",
      "      Number of created subproblems: None\n",
      "    Black box: \n",
      "      Number of iterations: 7\n",
      "  Error rc: 0\n",
      "  Time: 0.7044398784637451\n",
      "# ----------------------------------------------------------\n",
      "#   Solution Information\n",
      "# ----------------------------------------------------------\n",
      "Solution: \n",
      "- number of solutions: 0\n",
      "  number of solutions displayed: 0\n"
     ]
    }
   ],
   "source": [
    "# Step 0\n",
    "model = ConcreteModel()\n",
    "model.dual = Suffix(direction = Suffix.IMPORT)\n",
    "\n",
    "# Step 1: Define index sets\n",
    "CUS = list(Demand.keys())\n",
    "SRC = list(Supply.keys())\n",
    "\n",
    "# Step 2: Define the decision\n",
    "model.x = Var(CUS, SRC, domain = NonNegativeReals)\n",
    "\n",
    "@model.Objective(sense = minimize)\n",
    "def custom(m):\n",
    "    return sum(T[c,s]*model.x[c,s] for c in CUS for s in SRC)\n",
    "\n",
    "@model.Constraint(SRC)\n",
    "def src(m, s):\n",
    "    return sum([model.x[c,s] for c in CUS]) <= Supply[s]\n",
    "\n",
    "@model.Constraint(CUS)\n",
    "def dmd(m, c):\n",
    "    return sum([model.x[c,s] for s in SRC]) >= Demand[c]\n",
    "results = SolverFactory('cbc').solve(model)\n",
    "results.write()\n"
   ]
  },
  {
   "cell_type": "code",
   "execution_count": 83,
   "metadata": {},
   "outputs": [
    {
     "data": {
      "text/plain": [
       "['Lon', 'Ber', 'Maa', 'Ams', 'Utr', 'Hag']"
      ]
     },
     "execution_count": 83,
     "metadata": {},
     "output_type": "execute_result"
    }
   ],
   "source": [
    "CUS"
   ]
  },
  {
   "cell_type": "code",
   "execution_count": 81,
   "metadata": {},
   "outputs": [
    {
     "name": "stdout",
     "output_type": "stream",
     "text": [
      "x : Size=12, Index=x_index\n",
      "    Key            : Lower : Value : Upper : Fixed : Stale : Domain\n",
      "    ('Ams', 'Arn') :     0 :   0.0 :  None : False : False : NonNegativeReals\n",
      "    ('Ams', 'Gou') :     0 : 250.0 :  None : False : False : NonNegativeReals\n",
      "    ('Ber', 'Arn') :     0 : 175.0 :  None : False : False : NonNegativeReals\n",
      "    ('Ber', 'Gou') :     0 :   0.0 :  None : False : False : NonNegativeReals\n",
      "    ('Hag', 'Arn') :     0 :   0.0 :  None : False : False : NonNegativeReals\n",
      "    ('Hag', 'Gou') :     0 : 200.0 :  None : False : False : NonNegativeReals\n",
      "    ('Lon', 'Arn') :     0 :   0.0 :  None : False : False : NonNegativeReals\n",
      "    ('Lon', 'Gou') :     0 : 125.0 :  None : False : False : NonNegativeReals\n",
      "    ('Maa', 'Arn') :     0 : 225.0 :  None : False : False : NonNegativeReals\n",
      "    ('Maa', 'Gou') :     0 :   0.0 :  None : False : False : NonNegativeReals\n",
      "    ('Utr', 'Arn') :     0 : 200.0 :  None : False : False : NonNegativeReals\n",
      "    ('Utr', 'Gou') :     0 :  25.0 :  None : False : False : NonNegativeReals\n"
     ]
    }
   ],
   "source": [
    "model.x.display()"
   ]
  },
  {
   "cell_type": "code",
   "execution_count": 50,
   "metadata": {},
   "outputs": [
    {
     "name": "stdout",
     "output_type": "stream",
     "text": [
      "Lon Arn 0.0\n",
      "Lon Gou 125.0\n",
      "Ber Arn 175.0\n",
      "Ber Gou 0.0\n",
      "Maa Arn 225.0\n",
      "Maa Gou 0.0\n",
      "Ams Arn 0.0\n",
      "Ams Gou 250.0\n",
      "Utr Arn 200.0\n",
      "Utr Gou 25.0\n",
      "Hag Arn 0.0\n",
      "Hag Gou 200.0\n"
     ]
    }
   ],
   "source": [
    "for c in CUS:\n",
    "    for s in SRC:\n",
    "        print(c, s, model.x[c,s]())"
   ]
  },
  {
   "cell_type": "code",
   "execution_count": 49,
   "metadata": {},
   "outputs": [
    {
     "data": {
      "text/plain": [
       "['Lon', 'Ber', 'Maa', 'Ams', 'Utr', 'Hag']"
      ]
     },
     "execution_count": 49,
     "metadata": {},
     "output_type": "execute_result"
    }
   ],
   "source": [
    "list(model.dmd.keys())"
   ]
  },
  {
   "cell_type": "code",
   "execution_count": 27,
   "metadata": {},
   "outputs": [
    {
     "name": "stdout",
     "output_type": "stream",
     "text": [
      "Constraint  value  lslack  uslack    dual\n",
      "('Lon', 'Arn')\n",
      "('Lon', 'Gou')\n",
      "('Ber', 'Arn')\n",
      "('Ber', 'Gou')\n",
      "('Maa', 'Arn')\n",
      "('Maa', 'Gou')\n",
      "('Ams', 'Arn')\n",
      "('Ams', 'Gou')\n",
      "('Utr', 'Arn')\n",
      "('Utr', 'Gou')\n",
      "('Hag', 'Arn')\n",
      "('Hag', 'Gou')\n"
     ]
    }
   ],
   "source": [
    "str = \"   {0:7.2f} {1:7.2f} {2:7.2f} {3:7.2f}\"\n",
    "\n",
    "print(\"Constraint  value  lslack  uslack    dual\")\n",
    "for c in model.x:\n",
    "    print(c, str.format(c(), c.lslack(), c.uslack(), model.dual[c]))\n",
    "    "
   ]
  },
  {
   "cell_type": "code",
   "execution_count": 60,
   "metadata": {},
   "outputs": [
    {
     "name": "stdout",
     "output_type": "stream",
     "text": [
      "Arn            600.0     600.0   -0.2000\n",
      "Gou            650.0     600.0    0.0000\n"
     ]
    }
   ],
   "source": [
    "    for s in SRC:\n",
    "        print(f\"{s:10s}{Supply[s]:10.1f}{model.src[s]():10.1f}{model.dual[model.src[s]]:10.4f}\")"
   ]
  },
  {
   "cell_type": "code",
   "execution_count": 79,
   "metadata": {},
   "outputs": [
    {
     "name": "stdout",
     "output_type": "stream",
     "text": [
      "2 Var Declarations\n",
      "    x : Size=1, Index=None\n",
      "        Key  : Lower : Value : Upper : Fixed : Stale : Domain\n",
      "        None :     0 :   2.0 :  None : False : False : NonNegativeReals\n",
      "    y : Size=1, Index=None\n",
      "        Key  : Lower : Value : Upper : Fixed : Stale : Domain\n",
      "        None :     0 :   6.0 :  None : False : False : NonNegativeReals\n",
      "\n",
      "1 Objective Declarations\n",
      "    profit : Size=1, Index=None, Active=True\n",
      "        Key  : Active : Sense    : Expression\n",
      "        None :   True : maximize : 3*x + 5*y\n",
      "\n",
      "3 Constraint Declarations\n",
      "    fab_1 : Size=1, Index=None, Active=True\n",
      "        Key  : Lower : Body : Upper : Active\n",
      "        None :  -Inf :    x :   4.0 :   True\n",
      "    fab_2 : Size=1, Index=None, Active=True\n",
      "        Key  : Lower : Body : Upper : Active\n",
      "        None :  -Inf :  2*y :  12.0 :   True\n",
      "    fab_3 : Size=1, Index=None, Active=True\n",
      "        Key  : Lower : Body      : Upper : Active\n",
      "        None :  -Inf : 3*x + 2*y :  18.0 :   True\n",
      "\n",
      "1 Suffix Declarations\n",
      "    dual : Direction=Suffix.IMPORT, Datatype=Suffix.FLOAT\n",
      "        Key   : Value\n",
      "        fab_1 :  -0.0\n",
      "        fab_2 :   1.5\n",
      "        fab_3 :   1.0\n",
      "\n",
      "7 Declarations: dual x y profit fab_1 fab_2 fab_3\n"
     ]
    }
   ],
   "source": [
    "model.pprint()"
   ]
  },
  {
   "cell_type": "code",
   "execution_count": 65,
   "metadata": {},
   "outputs": [
    {
     "data": {
      "text/plain": [
       "inf"
      ]
     },
     "execution_count": 65,
     "metadata": {},
     "output_type": "execute_result"
    }
   ],
   "source": [
    "model.src[s].lslack()"
   ]
  },
  {
   "cell_type": "code",
   "execution_count": 39,
   "metadata": {},
   "outputs": [
    {
     "name": "stdout",
     "output_type": "stream",
     "text": [
      "\n",
      "Solution\n",
      "x = 20.0\n",
      "y = 60.0\n",
      "\n",
      "Sensitivity Analysis\n",
      "y_demand = 0.0\n",
      "y_laborA = -20.0\n",
      "y_laborB = -10.0\n",
      "20.0\n",
      "0.0\n",
      "0.0\n"
     ]
    }
   ],
   "source": [
    "model = ConcreteModel()\n",
    "# for access to dual solution for constraints\n",
    "model.dual = Suffix(direction=Suffix.IMPORT)\n",
    "\n",
    "# declare decision variables\n",
    "model.x = Var(domain=NonNegativeReals)\n",
    "model.y = Var(domain=NonNegativeReals)\n",
    "\n",
    "# declare objective\n",
    "# model.profit = Objective(\n",
    "#     expr = 40*model.x + 30*model.y,\n",
    "#     sense = maximize)\n",
    "\n",
    "@model.Objective(sense = maximize)\n",
    "def profit(m):\n",
    "    return 40*model.x + 30*model.y\n",
    "\n",
    "# declare constraints\n",
    "#model.demand = Constraint(expr = model.x <= 40)\n",
    "#model.laborA = Constraint(expr = model.x + model.y <= 80)\n",
    "#model.laborB = Constraint(expr = 2*model.x + model.y <= 100)\n",
    "\n",
    "@model.Constraint()\n",
    "def demand(m):\n",
    "    return model.x <= 40\n",
    "\n",
    "@model.Constraint()\n",
    "def laborA(m):\n",
    "    return model.x + model.y <= 80\n",
    "\n",
    "@model.Constraint()\n",
    "def laborB(m):\n",
    "    return 2*model.x + model.y <= 100\n",
    "\n",
    "# solve\n",
    "SolverFactory('cbc').solve(model)\n",
    "\n",
    "print(\"\\nSolution\")\n",
    "print(f\"x = {model.x()}\")\n",
    "print(f\"y = {model.y()}\")\n",
    "\n",
    "print(\"\\nSensitivity Analysis\")\n",
    "print(f\"y_demand = {-model.dual[model.demand]}\")\n",
    "print(f\"y_laborA = {-model.dual[model.laborA]}\")\n",
    "print(f\"y_laborB = {-model.dual[model.laborB]}\")\n",
    "\n",
    "for c in [model.demand, model.laborA, model.laborB]:\n",
    "    print(c.uslack())"
   ]
  },
  {
   "cell_type": "code",
   "execution_count": 86,
   "metadata": {},
   "outputs": [
    {
     "name": "stdout",
     "output_type": "stream",
     "text": [
      "dual : Direction=Suffix.IMPORT, Datatype=Suffix.FLOAT\n",
      "    Key      : Value\n",
      "    dmd[Ams] :   1.0\n",
      "    dmd[Ber] :   2.7\n",
      "    dmd[Hag] :   0.8\n",
      "    dmd[Lon] :   2.5\n",
      "    dmd[Maa] :   1.8\n",
      "    dmd[Utr] :   1.0\n",
      "    src[Arn] :  -0.2\n",
      "    src[Gou] :   0.0\n"
     ]
    }
   ],
   "source": [
    "model.dual.pprint()"
   ]
  },
  {
   "cell_type": "code",
   "execution_count": 77,
   "metadata": {},
   "outputs": [
    {
     "name": "stdout",
     "output_type": "stream",
     "text": [
      "# ==========================================================\n",
      "# = Solver Results                                         =\n",
      "# ==========================================================\n",
      "# ----------------------------------------------------------\n",
      "#   Problem Information\n",
      "# ----------------------------------------------------------\n",
      "Problem: \n",
      "- Name: unknown\n",
      "  Lower bound: 36.0\n",
      "  Upper bound: 36.0\n",
      "  Number of objectives: 1\n",
      "  Number of constraints: 4\n",
      "  Number of variables: 3\n",
      "  Number of nonzeros: 2\n",
      "  Sense: maximize\n",
      "# ----------------------------------------------------------\n",
      "#   Solver Information\n",
      "# ----------------------------------------------------------\n",
      "Solver: \n",
      "- Status: ok\n",
      "  User time: -1.0\n",
      "  System time: 0.01\n",
      "  Wallclock time: 0.01\n",
      "  Termination condition: optimal\n",
      "  Termination message: Model was solved to optimality (subject to tolerances), and an optimal solution is available.\n",
      "  Statistics: \n",
      "    Branch and bound: \n",
      "      Number of bounded subproblems: None\n",
      "      Number of created subproblems: None\n",
      "    Black box: \n",
      "      Number of iterations: 1\n",
      "  Error rc: 0\n",
      "  Time: 0.6753382682800293\n",
      "# ----------------------------------------------------------\n",
      "#   Solution Information\n",
      "# ----------------------------------------------------------\n",
      "Solution: \n",
      "- number of solutions: 0\n",
      "  number of solutions displayed: 0\n",
      "\n",
      "Solution\n",
      "x = 2.0\n",
      "y = 6.0\n",
      "Constraint  value  lslack uslack    dual\n",
      "fab_1       2.00     inf    2.00   -0.00\n",
      "fab_2      12.00     inf    0.00    1.50\n",
      "fab_3      18.00     inf    0.00    1.00\n"
     ]
    }
   ],
   "source": [
    "model = ConcreteModel()\n",
    "# for access to dual solution for constraints\n",
    "model.dual = Suffix(direction=Suffix.IMPORT)\n",
    "\n",
    "# declare decision variables\n",
    "model.x = Var(domain=NonNegativeReals)\n",
    "model.y = Var(domain=NonNegativeReals)\n",
    "\n",
    "# declare objective\n",
    "# model.profit = Objective(\n",
    "#     expr = 40*model.x + 30*model.y,\n",
    "#     sense = maximize)\n",
    "\n",
    "@model.Objective(sense = maximize)\n",
    "def profit(m):\n",
    "    return 3*model.x + 5*model.y\n",
    "\n",
    "@model.Constraint()\n",
    "def fab_1(m):\n",
    "    return model.x <= 4\n",
    "\n",
    "@model.Constraint()\n",
    "def fab_2(m):\n",
    "    return 2*model.y <= 12\n",
    "\n",
    "@model.Constraint()\n",
    "def fab_3(m):\n",
    "    return 3*model.x + 2*model.y <= 18\n",
    "\n",
    "# solve\n",
    "results = SolverFactory('cbc').solve(model)\n",
    "results.write()\n",
    "\n",
    "print(\"\\nSolution\")\n",
    "print(f\"x = {model.x()}\")\n",
    "print(f\"y = {model.y()}\")\n",
    "\n",
    "str = \"   {0:7.2f} {1:7.2f} {2:7.2f} {3:7.2f}\"\n",
    "\n",
    "print(\"Constraint  value  lslack uslack    dual\")\n",
    "for c in [model.fab_1, model.fab_2, model.fab_3]:\n",
    "    print(c, str.format(c(), c.lslack(), c.uslack(), model.dual[c]))\n"
   ]
  },
  {
   "cell_type": "code",
   "execution_count": 71,
   "metadata": {},
   "outputs": [
    {
     "data": {
      "text/plain": [
       "36.0"
      ]
     },
     "execution_count": 71,
     "metadata": {},
     "output_type": "execute_result"
    }
   ],
   "source": [
    "model.profit()"
   ]
  },
  {
   "cell_type": "code",
   "execution_count": 88,
   "metadata": {},
   "outputs": [],
   "source": [
    "from pymprog import *"
   ]
  },
  {
   "cell_type": "code",
   "execution_count": null,
   "metadata": {},
   "outputs": [],
   "source": [
    "# Creates the prob variable to contain the problem data\n",
    "prob = LpProblem(\"Mix de Producao Fabricas\", LpMinimize)\n",
    "\n",
    "# Definicao das variaveis de decisao do problema\n",
    "vars = LpVariable.dicts(\"Fab\", F, 0, None, LpInteger)\n",
    "\n",
    "# Definicao da funcao objetivo - minimizacao do custo\n",
    "prob += (\n",
    "    lpSum([vars[f] * Custo[f] for f in vars]),\n",
    "    \"Custo Producao\",\n",
    ")\n",
    "\n",
    "# Definicao das restricoes\n",
    "prob += (\n",
    "    lpSum([vars[f] * MB[f] for f in vars]) <= 3_300,\n",
    "    \"Homem-Horas Disponiveis\",\n",
    ")\n",
    "\n",
    "prob += (\n",
    "    lpSum([vars[f] for f in vars]) == 1_000,\n",
    "    \"Minimo de veiculos produzido\",\n",
    ")\n",
    "\n",
    "prob += (\n",
    "    lpSum([vars[f] * MP[f] for f in vars]) <= 4000,\n",
    "    \"Materia prima disponivel\",\n",
    ")\n",
    "\n",
    "prob += (\n",
    "    vars['3'] >= 400,\n",
    "    \"Minimo_Prod_Fab_3\" \n",
    ")\n",
    "\n",
    "\n",
    "# The problem data is written to an .lp file\n",
    "prob.writeLP(\"Mix_Producao_Automoveis.lp\")\n",
    "\n",
    "# The problem is solved using PULP's choice of solver \n",
    "prob.solve()\n",
    "\n",
    "# The status of the solution is printed to the screen\n",
    "print('Status: ', LpStatus[prob.status])\n",
    "\n",
    "# Each of the variables is printed with it's resolved optimum value\n",
    "for v in prob.variables():\n",
    "    print(v.name, \"=\", v.varValue)\n",
    "\n",
    "# The optimised objective function value is printed to the screen\n",
    "print(\"Total do Custo de Producao = \", value(prob.objective))"
   ]
  }
 ],
 "metadata": {
  "kernelspec": {
   "display_name": "pl",
   "language": "python",
   "name": "python3"
  },
  "language_info": {
   "codemirror_mode": {
    "name": "ipython",
    "version": 3
   },
   "file_extension": ".py",
   "mimetype": "text/x-python",
   "name": "python",
   "nbconvert_exporter": "python",
   "pygments_lexer": "ipython3",
   "version": "3.7.13"
  },
  "orig_nbformat": 4
 },
 "nbformat": 4,
 "nbformat_minor": 2
}
