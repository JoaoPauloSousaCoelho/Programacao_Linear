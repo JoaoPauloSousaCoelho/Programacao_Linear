{
 "cells": [
  {
   "attachments": {},
   "cell_type": "markdown",
   "metadata": {},
   "source": [
    "### Knapsack Problem\n",
    "\n",
    "> Maximize\n",
    " $$\\sum_{i\\in I} p_i*x_i$$\n",
    "> Sujeito a:\n",
    "$$ \\sum_{i \\in I}w_i*x_i \\le c$$\n",
    "$$x_i \\in \\{0,1\\} \\forall_i \\in I"
   ]
  },
  {
   "cell_type": "code",
   "execution_count": 6,
   "metadata": {},
   "outputs": [
    {
     "name": "stdout",
     "output_type": "stream",
     "text": [
      "Selected items: [0, 3]\n"
     ]
    }
   ],
   "source": [
    "from mip import Model, xsum, maximize, BINARY\n",
    "\n",
    "p = [10, 13, 18, 31, 7, 15]\n",
    "w = [11, 15, 20, 35, 10, 33]\n",
    "c, I = 47, range(len(w))\n",
    "\n",
    "m = Model('knapsack')\n",
    "\n",
    "x = [m.add_var(var_type = BINARY) for i in I]\n",
    "\n",
    "m.objective = maximize(xsum(p[i] * x[i] for i in I))\n",
    "\n",
    "m += xsum(w[i] * x[i] for i in I)<= c\n",
    "\n",
    "m.optimize()\n",
    "\n",
    "selected = [i for i in I if x[i].x >= 0.99]\n",
    "print(\"Selected items: {}\".format(selected))"
   ]
  },
  {
   "attachments": {},
   "cell_type": "markdown",
   "metadata": {},
   "source": [
    "### TSP\n",
    "\n",
    "> Minimize:\n",
    "$$\\sum_{i \\in I, j \\in I} c_{i,j} * x_{i,j}$$\n",
    "\n",
    "> Sujeito a:\n",
    "$$ \\sum_{j \\in V\\\\\\{i\\}} x_{i,j} = 1 \\; \\forall i \\in V$$\n",
    "$$ \\sum_{i \\in V\\\\\\{j\\}} x_{i,j} = 1 \\; \\forall j \\in V$$\n",
    "$$ y_i - (n+1) \\geq y_i - n \\;\\;\\forall i \\in V\\\\\\{0\\}, j \\in V\\{0,1\\}$$\n",
    "$$ x_{i,j} \\in \\{0,1\\} \\; \\forall i \\in V, j \\in V$$\n",
    "$$ y_i \\geq 0 \\forall i \\in V$$\n",
    "\n"
   ]
  },
  {
   "cell_type": "code",
   "execution_count": 12,
   "metadata": {},
   "outputs": [
    {
     "name": "stdout",
     "output_type": "stream",
     "text": [
      "route with total distance 1455 found: Antwerp -> Namur -> Ghent -> Hasselt -> Mons -> Leuven -> Waterloo -> C-Mine -> Grand-Place de Bruxelles -> Montagne de Bueren -> Bruges -> Remouchamps -> Mechelen -> Dinant -> Antwerp\n"
     ]
    }
   ],
   "source": [
    "from itertools import product\n",
    "from sys import stdout as out \n",
    "from mip import Model, xsum, minimize, BINARY \n",
    "\n",
    "# names of places to visit \n",
    "places = ['Antwerp', 'Bruges', 'C-Mine', 'Dinant', 'Ghent',\n",
    "          'Grand-Place de Bruxelles', 'Hasselt', 'Leuven',\n",
    "          'Mechelen', 'Mons', 'Montagne de Bueren', 'Namur',\n",
    "          'Remouchamps', 'Waterloo']\n",
    "\n",
    "# distances in an upper triangular matrix\n",
    "dists = [[83, 81, 113, 52, 42, 73, 44, 23, 91, 105, 90, 124, 57],\n",
    "         [161, 160, 39, 89, 151, 110, 90, 99, 177, 143, 193, 100],\n",
    "         [90, 125, 82, 13, 57, 71, 123, 38, 72, 59, 82],\n",
    "         [123, 77, 81, 71, 91, 72, 64, 24, 62, 63],\n",
    "         [51, 114, 72, 54, 69, 139, 105, 155, 62],\n",
    "         [70, 25, 22, 52, 90, 56, 105, 16],\n",
    "         [45, 61, 111, 36, 61, 57, 70],\n",
    "         [23, 71, 67, 48, 85, 29],\n",
    "         [74, 89, 69, 107, 36],\n",
    "         [117, 65, 125, 43],\n",
    "         [54, 22, 84],\n",
    "         [60, 44],\n",
    "         [97],\n",
    "         []]\n",
    "\n",
    "# number of nodes and list of vertices\n",
    "n, V = len(dists), set(range(len(dists)))\n",
    "\n",
    "# distances matrix\n",
    "c = [[0 if i == j\n",
    "      else dists[i][j-i-1] if j > i\n",
    "      else dists[j][i-j-1] \n",
    "      for j in V] for i in V]\n",
    "\n",
    "model = Model()\n",
    "\n",
    "# binary variables indicating if arc(i,j) is used on the route or not\n",
    "x = [[model.add_var(var_type = BINARY) for j in V] for i in V]\n",
    "\n",
    "# continuous variable to prevent subtours: each city will have a\n",
    "# different sequential id in the planned route except the first one\n",
    "y = [model.add_var() for i in V]\n",
    "\n",
    "# objective function: minimize the distance\n",
    "model.objective = maximize(xsum(c[i][j]*x[i][j] for i in V for j in V))\n",
    "\n",
    "# constraint: Leave each city only once\n",
    "for i in V:\n",
    "    model += xsum(x[i][j] for j in V - {i}) == 1\n",
    "\n",
    "# constraint: Enter each city only once\n",
    "for i in V:\n",
    "    model += xsum(x[j][i] for j in V - {i}) == 1\n",
    "\n",
    "# constraint: subtour elimination\n",
    "for(i, j) in product(V - {0}, V - {0}):\n",
    "    if i != j:\n",
    "        model += y[i] - (n + 1)*x[i][j] >= y[j] - n \n",
    "\n",
    "#Optimizing\n",
    "model.optimize()\n",
    "\n",
    "# Checking if a solution was found \n",
    "if model.num_solutions:\n",
    "    out.write('route with total distance %g found: %s'\n",
    "              %(model.objective_value, places[0]))\n",
    "    nc = 0\n",
    "    while True:\n",
    "        nc = [i for i in V if x[nc][i].x >= 0.99][0]\n",
    "        out.write(' -> %s' %places[nc])\n",
    "        if nc == 0:\n",
    "            break\n",
    "    out.write('\\n')    "
   ]
  },
  {
   "attachments": {},
   "cell_type": "markdown",
   "metadata": {},
   "source": [
    "### Resource Constrained Project Scheduling\n",
    ">Minimize:\n",
    "$$\\sum_{t \\in T} t*x_{(n+1, t)}$$\n",
    "\n",
    ">Sujeito a:\n",
    "$$\\sum_{t \\in T} x_{(j,t)} = 1 \\; \\forall j \\in J$$\n",
    "$$\\sum_{j \\in J}\\sum_{t_2 = t - p_j + 1}^t u_{j,r}x_{j, t_2} \\leq c_r \\; \\forall t \\in T, \\; r \\in R$$\n",
    "$$\\sum_{t \\in T} t*x_{s,t} - \\sum_{t \\in T} t*x_{j,t} \\geq p_j \\; \\forall (j,s) \\in S$$\n",
    "$$x_{(j,t)} \\in \\{0,1\\} \\; \\forall j \\in J, t \\in T$$"
   ]
  },
  {
   "cell_type": "code",
   "execution_count": 28,
   "metadata": {},
   "outputs": [
    {
     "name": "stdout",
     "output_type": "stream",
     "text": [
      "Schedule: \n",
      "Job 0: begins at t=6 and finishes at t=6\n",
      "Job 1: begins at t=7 and finishes at t=10\n",
      "Job 2: begins at t=13 and finishes at t=15\n",
      "Job 3: begins at t=26 and finishes at t=31\n",
      "Job 4: begins at t=12 and finishes at t=16\n",
      "Job 5: begins at t=11 and finishes at t=13\n",
      "Job 6: begins at t=23 and finishes at t=26\n",
      "Job 7: begins at t=16 and finishes at t=20\n",
      "Job 8: begins at t=32 and finishes at t=34\n",
      "Job 9: begins at t=26 and finishes at t=30\n",
      "Job 10: begins at t=20 and finishes at t=26\n",
      "Job 11: begins at t=34 and finishes at t=34\n",
      "Makespan = 0.0\n"
     ]
    }
   ],
   "source": [
    "from itertools import product \n",
    "from mip import Model, xsum, BINARY \n",
    "\n",
    "n = 10 \n",
    "\n",
    "p = [0, 3, 2, 5, 4, 2, 3, 4, 2, 4, 6, 0]\n",
    "\n",
    "u = [[0, 0], [5, 1], [0, 4], [1, 4], [1, 3], [3, 2], [3, 1], [2, 4],\n",
    "     [4, 0], [5, 2], [2, 5], [0, 0]]\n",
    "\n",
    "c = [6, 8]\n",
    "\n",
    "S = [[0, 1], [0, 2], [0, 3], [1, 4], [1, 5], [2, 9], [2, 10], [3, 8], [4, 6],\n",
    "     [4, 7], [5, 9], [5, 10], [6, 8], [6, 9], [7, 8], [8, 11], [9, 11], [10, 11]]\n",
    "\n",
    "(R, J, T) = (range(len(c)), range(len(p)), range(sum(p)))\n",
    "\n",
    "model = Model()\n",
    "\n",
    "x = [[model.add_var(name = \"x({}, {})\".format(j, t), var_type = BINARY) for t in T] for j in J]\n",
    "\n",
    "for j in J:\n",
    "    model += xsum(x[j][t] for t in T) == 1 \n",
    "\n",
    "for(r, t) in product(R,T):\n",
    "    model += (\n",
    "        xsum(u[j][r] * x[j][t2] for j in J for t2 in range(max(0, t - p[j] + 1), t + 1))\n",
    "        <= c[r]\n",
    "    )\n",
    "\n",
    "for (j, s) in S:\n",
    "    model += xsum(t * x[s][t] - t * x[j][t] for t in T) >= p[j]\n",
    "\n",
    "model.optimize()\n",
    "\n",
    "print('Schedule: ')\n",
    "for (j, t) in product(J, T):\n",
    "    if x[j][t].x >= 0.99:\n",
    "        print(\"Job {}: begins at t={} and finishes at t={}\".format(j, t, t + p[j]))\n",
    "print('Makespan = {}'.format(model.objective_value))        "
   ]
  },
  {
   "cell_type": "code",
   "execution_count": 19,
   "metadata": {},
   "outputs": [],
   "source": [
    "p = [0, 3, 2, 5, 4, 2, 3, 4, 2, 4, 6, 0]\n",
    "\n",
    "u = [[0, 0], [5, 1], [0, 4], [1, 4], [1, 3], [3, 2], [3, 1], [2, 4],\n",
    "     [4, 0], [5, 2], [2, 5], [0, 0]]\n",
    "\n",
    "c = [6, 8]\n",
    "\n",
    "S = [[0, 1], [0, 2], [0, 3], [1, 4], [1, 5], [2, 9], [2, 10], [3, 8], [4, 6],\n",
    "     [4, 7], [5, 9], [5, 10], [6, 8], [6, 9], [7, 8], [8, 11], [9, 11], [10, 11]]\n",
    "\n",
    "#(R, J, T) = (range(len(c), range(len(p)), range(sum(p))))"
   ]
  },
  {
   "cell_type": "code",
   "execution_count": 26,
   "metadata": {},
   "outputs": [
    {
     "data": {
      "text/plain": [
       "(range(0, 2), range(0, 12), range(0, 35))"
      ]
     },
     "execution_count": 26,
     "metadata": {},
     "output_type": "execute_result"
    }
   ],
   "source": [
    "range(len(c)), range(len(p)), range(sum(p))"
   ]
  },
  {
   "attachments": {},
   "cell_type": "markdown",
   "metadata": {},
   "source": [
    "### Problemas Listas"
   ]
  },
  {
   "cell_type": "code",
   "execution_count": 194,
   "metadata": {},
   "outputs": [],
   "source": [
    "from itertools import repeat, product\n",
    "from mip import Model, xsum, BINARY, maximize\n",
    "import pandas as pd"
   ]
  },
  {
   "cell_type": "code",
   "execution_count": 114,
   "metadata": {},
   "outputs": [
    {
     "name": "stdout",
     "output_type": "stream",
     "text": [
      "Distribuição de Garrafas: \n",
      "Individuo 2\t volume: 1: 1.0\n",
      "Individuo 0\t volume: 1: 1.0\n",
      "Individuo 0\t volume: 1: 1.0\n",
      "Individuo 0\t volume: 1: 1.0\n",
      "Individuo 2\t volume: 1: 1.0\n",
      "Individuo 1\t volume: 1: 1.0\n",
      "Individuo 1\t volume: 1: 1.0\n",
      "Individuo 1\t volume: 0.5: 1.0\n",
      "Individuo 0\t volume: 0.5: 1.0\n",
      "Individuo 2\t volume: 0.5: 1.0\n",
      "Individuo 2\t volume: 0.5: 1.0\n",
      "Individuo 1\t volume: 0.5: 1.0\n",
      "Individuo 2\t volume: 0.5: 1.0\n",
      "Individuo 1\t volume: 0.5: 1.0\n",
      "Individuo 0\t volume: 0: 1.0\n",
      "Individuo 1\t volume: 0: 1.0\n",
      "Individuo 2\t volume: 0: 1.0\n",
      "Individuo 0\t volume: 0: 1.0\n",
      "Individuo 1\t volume: 0: 1.0\n",
      "Individuo 2\t volume: 0: 1.0\n",
      "Individuo 0\t volume: 0: 1.0\n"
     ]
    },
    {
     "data": {
      "text/html": [
       "<div>\n",
       "<style scoped>\n",
       "    .dataframe tbody tr th:only-of-type {\n",
       "        vertical-align: middle;\n",
       "    }\n",
       "\n",
       "    .dataframe tbody tr th {\n",
       "        vertical-align: top;\n",
       "    }\n",
       "\n",
       "    .dataframe thead th {\n",
       "        text-align: right;\n",
       "    }\n",
       "</style>\n",
       "<table border=\"1\" class=\"dataframe\">\n",
       "  <thead>\n",
       "    <tr style=\"text-align: right;\">\n",
       "      <th></th>\n",
       "      <th></th>\n",
       "      <th>item</th>\n",
       "    </tr>\n",
       "    <tr>\n",
       "      <th>individuo</th>\n",
       "      <th>volume</th>\n",
       "      <th></th>\n",
       "    </tr>\n",
       "  </thead>\n",
       "  <tbody>\n",
       "    <tr>\n",
       "      <th rowspan=\"3\" valign=\"top\">0</th>\n",
       "      <th>0.0</th>\n",
       "      <td>3.0</td>\n",
       "    </tr>\n",
       "    <tr>\n",
       "      <th>0.5</th>\n",
       "      <td>1.0</td>\n",
       "    </tr>\n",
       "    <tr>\n",
       "      <th>1.0</th>\n",
       "      <td>3.0</td>\n",
       "    </tr>\n",
       "    <tr>\n",
       "      <th rowspan=\"3\" valign=\"top\">1</th>\n",
       "      <th>0.0</th>\n",
       "      <td>2.0</td>\n",
       "    </tr>\n",
       "    <tr>\n",
       "      <th>0.5</th>\n",
       "      <td>3.0</td>\n",
       "    </tr>\n",
       "    <tr>\n",
       "      <th>1.0</th>\n",
       "      <td>2.0</td>\n",
       "    </tr>\n",
       "    <tr>\n",
       "      <th rowspan=\"3\" valign=\"top\">2</th>\n",
       "      <th>0.0</th>\n",
       "      <td>2.0</td>\n",
       "    </tr>\n",
       "    <tr>\n",
       "      <th>0.5</th>\n",
       "      <td>3.0</td>\n",
       "    </tr>\n",
       "    <tr>\n",
       "      <th>1.0</th>\n",
       "      <td>2.0</td>\n",
       "    </tr>\n",
       "  </tbody>\n",
       "</table>\n",
       "</div>"
      ],
      "text/plain": [
       "                  item\n",
       "individuo volume      \n",
       "0         0.0      3.0\n",
       "          0.5      1.0\n",
       "          1.0      3.0\n",
       "1         0.0      2.0\n",
       "          0.5      3.0\n",
       "          1.0      2.0\n",
       "2         0.0      2.0\n",
       "          0.5      3.0\n",
       "          1.0      2.0"
      ]
     },
     "execution_count": 114,
     "metadata": {},
     "output_type": "execute_result"
    }
   ],
   "source": [
    "model = Model()\n",
    "\n",
    "valores = list(repeat(1, 7)) + list(repeat(0.5, 7)) + list(repeat(0, 7))\n",
    "coef = dict(zip(range(21), valores))\n",
    "volume = {0:3.5, 1:3.5, 2:3.5}\n",
    "garrafas = {0:7, 1:7, 2:7}\n",
    "\n",
    "x = [[model.add_var(name = \"x({}, {})\".format(j, t), var_type = BINARY) for t in range(3)] for j in range(21)]\n",
    "v = [model.add_var(name = \"v{}\".format(i)) for i in range(3)]\n",
    "\n",
    "for i in range(3):\n",
    "    model += xsum([x[j][i]*coef[j] for j in range(21)]) == volume[i] \n",
    "\n",
    "for i in range(3):\n",
    "    model += xsum([x[j][i] for j in range(21)]) == 7\n",
    "\n",
    "\n",
    "for i in range(21):\n",
    "    model += xsum([x[i][j] for j in range(3)]) <= 1   \n",
    "\n",
    "\n",
    "model.optimize()\n",
    "\n",
    "dados = {}\n",
    "individuos = list()\n",
    "volumes = list()\n",
    "item = []\n",
    "print('Distribuição de Garrafas: ')\n",
    "for (i, j) in product(range(21), range(3)):\n",
    "    if(x[i][j].x > 0.99):\n",
    "        print(f'Individuo {j}\\t volume: {coef[i]}: {x[i][j].x}')\n",
    "        individuos.append(j)\n",
    "        volumes.append(coef[i])\n",
    "        item.append(x[i][j].x)\n",
    "dados['individuo'] = individuos\n",
    "dados['item'] = item\n",
    "dados['volume'] = volumes\n",
    "\n",
    "df = pd.DataFrame.from_dict(dados)\n",
    "df = df.sort_values('individuo')\n",
    "df.groupby(['individuo', 'volume']).sum('item')"
   ]
  },
  {
   "cell_type": "code",
   "execution_count": 248,
   "metadata": {},
   "outputs": [
    {
     "name": "stdout",
     "output_type": "stream",
     "text": [
      "Transmissoras: \n",
      "Transmissora 2\n",
      "Transmissora 4\n",
      "Transmissora 5\n",
      "Transmissora 6\n",
      "Transmissora 7\n",
      "Populacao atendida = 181.0 mil habitantes\n"
     ]
    }
   ],
   "source": [
    "# Definicao das variaveis\n",
    "Custo = dict(zip(range(1,8), [3.6, 2.3, 4.1, 3.15, 2.8, 2.65, 3.1]))\n",
    "Pop = dict(zip(range(1,16), [4, 3, 10, 14, 6, 7, 9, 10, 13, 11, 6, 12, 7, 5, 16]))\n",
    "cobertura = dict(zip(range(1,8), [[1,2], [2,3,5], \n",
    "                    [1,7,9,10], [4, 6, 8, 9], [6, 7, 9, 11], [5, 7, 10, 12, 14], [12, 13, 14, 15]]))\n",
    "\n",
    "# Calculo da populacao atendida por transmissora\n",
    "n_max = len(Custo) + 1\n",
    "\n",
    "cobertura_pop = dict()\n",
    "for j in cobertura.keys():\n",
    "    p = 0\n",
    "    for c in cobertura[j]:\n",
    "        p += Pop[c]\n",
    "    cobertura_pop[j] = p\n",
    "\n",
    "# Inicializacao do modelo\n",
    "model = Model()\n",
    "\n",
    "x = [model.add_var(name = \"x({})\".format(i),var_type = BINARY) for i in range(1,9)]\n",
    "\n",
    "# Funcao Objetivo: Maximizar o atendimento a populacao\n",
    "model.objective = maximize(xsum(x[i]*cobertura_pop[i] for i in range(1,8)))\n",
    "\n",
    "# Restricao de investimento\n",
    "model += xsum(x[i]*Custo[i] for i in range(1,8)) <= 15\n",
    "\n",
    "model.optimize()\n",
    "\n",
    "print('Transmissoras: ')\n",
    "for i in range(1,8):\n",
    "    if x[i].x >= 0.99:\n",
    "         print(f\"Transmissora {i}\")\n",
    "print('Populacao atendida = {} mil habitantes'.format(model.objective_value))  \n",
    "\n",
    "model.write('ex_2.lp')"
   ]
  },
  {
   "cell_type": "code",
   "execution_count": 250,
   "metadata": {},
   "outputs": [
    {
     "data": {
      "text/plain": [
       "{1: [500, 750, 1200, 1500, 1750],\n",
       " 2: [500, 750, 1200, 1500, 1750],\n",
       " 3: [500, 750, 1200, 1500, 1750],\n",
       " 4: [500, 750, 1200, 1500, 1750]}"
      ]
     },
     "execution_count": 250,
     "metadata": {},
     "output_type": "execute_result"
    }
   ],
   "source": [
    "compartimento = [500, 750, 1200, 1500, 1750]\n",
    "capacidades = dict(zip(range(1,5), repeat(compartimento, 4)))\n",
    "capacidades"
   ]
  },
  {
   "cell_type": "code",
   "execution_count": 263,
   "metadata": {},
   "outputs": [
    {
     "data": {
      "text/plain": [
       "{1: [500, 750, 1200, 1500, 1750],\n",
       " 2: [500, 750, 1200, 1500, 1750],\n",
       " 3: [500, 750, 1200, 1500, 1750],\n",
       " 4: [500, 750, 1200, 1500, 1750]}"
      ]
     },
     "execution_count": 263,
     "metadata": {},
     "output_type": "execute_result"
    }
   ],
   "source": [
    "capacidades"
   ]
  },
  {
   "cell_type": "code",
   "execution_count": 275,
   "metadata": {},
   "outputs": [],
   "source": [
    "compartimento = [500, 750, 1200, 1500, 1750]\n",
    "capacidades = dict(zip(range(5), repeat(compartimento, 4)))\n",
    "demandas = {1: 10_000, 2: 15_000, 3: 12_000, 4: 8_000}\n",
    "custo = {1:5, 2: 12, 3: 8, 4: 10}\n",
    "\n",
    "model = Model()\n",
    "\n",
    "x = [[model.add_var(name = \"x({},{})\".format(i, j), var_type = BINARY) for i in range(5)] for j in range(1,6)]\n",
    "\n",
    "# Funcao Objetivo: Maximizar o atendimento a populacao\n",
    "model.objective = maximize(xsum(x[i][j] for i in range(5) for j in range(1,5)))\n",
    "\n",
    "\n",
    "\n",
    "model.write('ex_3.lp')"
   ]
  }
 ],
 "metadata": {
  "kernelspec": {
   "display_name": "pl",
   "language": "python",
   "name": "python3"
  },
  "language_info": {
   "codemirror_mode": {
    "name": "ipython",
    "version": 3
   },
   "file_extension": ".py",
   "mimetype": "text/x-python",
   "name": "python",
   "nbconvert_exporter": "python",
   "pygments_lexer": "ipython3",
   "version": "3.7.13"
  },
  "orig_nbformat": 4
 },
 "nbformat": 4,
 "nbformat_minor": 2
}
