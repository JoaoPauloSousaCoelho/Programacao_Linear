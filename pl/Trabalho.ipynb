{
 "cells": [
  {
   "cell_type": "code",
   "execution_count": 172,
   "metadata": {},
   "outputs": [],
   "source": [
    "import numpy as np \n",
    "import pandas as pd\n",
    "from itertools import *\n",
    "from mip import *"
   ]
  },
  {
   "cell_type": "code",
   "execution_count": 26,
   "metadata": {},
   "outputs": [],
   "source": [
    "filename = '../data/cap41.txt'\n",
    "conteudo = []\n",
    "with open(filename)  as f:\n",
    "    for line in f:\n",
    "        conteudo.append(line.strip('\\n'))"
   ]
  },
  {
   "cell_type": "code",
   "execution_count": 175,
   "metadata": {},
   "outputs": [
    {
     "data": {
      "text/plain": [
       "['', '16', '50', '']"
      ]
     },
     "execution_count": 175,
     "metadata": {},
     "output_type": "execute_result"
    }
   ],
   "source": [
    "header"
   ]
  },
  {
   "cell_type": "code",
   "execution_count": 171,
   "metadata": {},
   "outputs": [],
   "source": [
    "header = conteudo[0].split(' ')\n",
    "m = np.int32(header[1])\n",
    "n = np.int32(header[2])\n",
    "raw_data = {}\n",
    "for i in range(1, len(conteudo)):    \n",
    "    raw_data[i] = conteudo[i].split(' ')\n",
    "\n",
    "dados = {}\n",
    "conjunto = []\n",
    "id = 0\n",
    "for k in raw_data.keys():\n",
    "    aux = [float(x) for x in raw_data[k] if x != \"\"]\n",
    "    conjunto.append(aux) \n",
    "\n",
    "demand_raw = []\n",
    "cost_raw = []\n",
    "for i in range(m, len(conjunto)):\n",
    "    if len(conjunto[i]) == 1:\n",
    "        demand_raw.append(conjunto[i])\n",
    "    else:\n",
    "        cost_raw.append(conjunto[i])\n",
    "\n",
    "capacity = [conjunto[i][0] for i in range(m)]\n",
    "cost_fixed = [conjunto[i][1] for i in range(m)]\n",
    "demand = [x[0] for x in demand_raw]\n",
    "cost_prep = list(chain(*cost_raw))\n",
    "\n",
    "cost = {}\n",
    "id = 0\n",
    "for i in range(n):\n",
    "    aux = []\n",
    "    for j in range(m):\n",
    "        aux.append(c[id])\n",
    "        id+=1\n",
    "    cost[i] = aux  "
   ]
  },
  {
   "cell_type": "code",
   "execution_count": 208,
   "metadata": {},
   "outputs": [
    {
     "data": {
      "text/plain": [
       "<OptimizationStatus.INFEASIBLE: 1>"
      ]
     },
     "execution_count": 208,
     "metadata": {},
     "output_type": "execute_result"
    }
   ],
   "source": [
    "model = Model()\n",
    "\n",
    "x = [[model.add_var(name = f'x{i}{j}', lb = 0, ub = 1) for j in range(m)] for i in range(n)]\n",
    "\n",
    "y = [model.add_var(name = f'y{j}', var_type = BINARY) for j in range(m)]\n",
    "\n",
    "model.objective = xsum(y[j]*cost_fixed[j] for j in range(m)) +  xsum(x[i][j]*cost[i][j] for i in range(n) for j in range(m))\n",
    "\n",
    "for j in range(m):\n",
    "    model += xsum(x[i][j] for i in range(n))<= capacity[j]*y[j]\n",
    "\n",
    "for i in range(n):\n",
    "        model += xsum(x[i][j] for j in range(m))>= demand[i]\n",
    "\n",
    "for j in range(m):\n",
    "      for i in range(n):\n",
    "            model+= x[i][j]<=demand[i]*y[j]\n",
    "\n",
    "model.write('capacitaded_problem.lp')\n",
    "\n",
    "model.optimize()"
   ]
  },
  {
   "cell_type": "code",
   "execution_count": 209,
   "metadata": {},
   "outputs": [],
   "source": [
    "model.objective_value"
   ]
  }
 ],
 "metadata": {
  "kernelspec": {
   "display_name": "pl",
   "language": "python",
   "name": "python3"
  },
  "language_info": {
   "codemirror_mode": {
    "name": "ipython",
    "version": 3
   },
   "file_extension": ".py",
   "mimetype": "text/x-python",
   "name": "python",
   "nbconvert_exporter": "python",
   "pygments_lexer": "ipython3",
   "version": "3.7.13"
  },
  "orig_nbformat": 4
 },
 "nbformat": 4,
 "nbformat_minor": 2
}
