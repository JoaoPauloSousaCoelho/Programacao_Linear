{
 "cells": [
  {
   "cell_type": "code",
   "execution_count": 422,
   "metadata": {},
   "outputs": [],
   "source": [
    "import numpy as np \n",
    "import pandas as pd\n",
    "from itertools import *\n",
    "from mip import *\n",
    "from datetime import *\n",
    "import re\n",
    "from decimal import Decimal"
   ]
  },
  {
   "cell_type": "code",
   "execution_count": 291,
   "metadata": {},
   "outputs": [],
   "source": [
    "def montar_arquivo(filename):\n",
    "    \"\"\"Função para ler o arquivo e gerar as estruturas de dados que serão consumidas pelo\n",
    "    modelo de otimização\"\"\"\n",
    "\n",
    "    conteudo = []\n",
    "\n",
    "    with open(filename)  as f:\n",
    "        for line in f:\n",
    "            conteudo.append(line.strip('\\n'))\n",
    "\n",
    "    header = conteudo[0].split(' ')\n",
    "    m = np.int32(header[1])\n",
    "    n = np.int32(header[2])\n",
    "    raw_data = {}\n",
    "    for i in range(1, len(conteudo)):    \n",
    "        raw_data[i] = conteudo[i].split(' ')\n",
    "\n",
    "    dados = {}\n",
    "    conjunto = []\n",
    "    id = 0\n",
    "    for k in raw_data.keys():\n",
    "        aux = []\n",
    "        for x in raw_data[k]:       \n",
    "            if x != \"\" and x != 'capacity':\n",
    "                aux.append(float(x))\n",
    "            elif x == 'capacity':\n",
    "                aux.append(-1)\n",
    "        conjunto.append(aux)                \n",
    "                \n",
    "        \n",
    "    demand_raw = []\n",
    "    cost_raw = []\n",
    "    count = 0\n",
    "    conjunto = list(chain(*conjunto))\n",
    "    for i in range(2*m, len(conjunto)):\n",
    "        if count % (m+1) == 0:\n",
    "            demand_raw.append(conjunto[i])\n",
    "        else:\n",
    "            cost_raw.append(conjunto[i])   \n",
    "        count += 1         \n",
    "\n",
    "   \n",
    "    dict_capacity = {'a':[8000,10000,12000,14000], 'b': [5000,6000,7000,8000],\n",
    "                    'c':[5000, 5750, 6500, 7250]}\n",
    "\n",
    "    text = r'cap(\\w)'\n",
    "    letra = re.findall(text, filename)\n",
    "\n",
    "    if letra[0] in ['a','b','c']:\n",
    "        capacity = [dict_capacity[letra[0]][0] for i in range(m)]\n",
    "\n",
    "    else:  \n",
    "        capacity = [conjunto[i] for i in range(2*m) if i%2==0]\n",
    "    cost_fixed = [conjunto[i] for i in range(2*m) if i%2==1]\n",
    "\n",
    "\n",
    "    demand = demand_raw\n",
    "    cost_prep = cost_raw\n",
    "\n",
    "    cost = {}\n",
    "    id = 0\n",
    "    for i in range(n):\n",
    "        aux = []\n",
    "        for j in range(m):\n",
    "            #print(i,j, id)    \n",
    "            if id < (n*m):\n",
    "                aux.append(cost_prep[id])         \n",
    "            id += 1    \n",
    "        cost[i] = aux\n",
    "    return demand, capacity, cost, cost_fixed  "
   ]
  },
  {
   "cell_type": "code",
   "execution_count": 366,
   "metadata": {},
   "outputs": [],
   "source": [
    "def solve_model(demand, capacity, cost, cost_fixed, filename, cut_plan = 'AUTOMATIC'):\n",
    "\n",
    "    now = datetime.now()\n",
    "    now = now.strftime(\"%Y-%m-%d_%H_%M_%S\")\n",
    "\n",
    "    cuts_types = {\n",
    "              None: 0,\n",
    "              'AUTOMATIC': -1, \n",
    "             'GOMORY': CutType.GOMORY,\n",
    "              'KNAPSACK_COVER': CutType.KNAPSACK_COVER,\n",
    "              'CLIQUE': CutType.CLIQUE,\n",
    "              'LIFT': CutType.LIFT_AND_PROJECT}\n",
    "    \n",
    "    cut_code = cuts_types[cut_plan]\n",
    "\n",
    "    model = Model()\n",
    "\n",
    "    m = len(capacity)\n",
    "\n",
    "    n = len(demand)\n",
    "\n",
    "    model.store_search_progress_log = True\n",
    "\n",
    "    x = [[model.add_var(name = f'x{i}{j}', lb = 0, ub = 1) for j in range(m)] for i in range(n)]\n",
    "\n",
    "    y = [model.add_var(name = f'y{j}', var_type = BINARY) for j in range(m)]\n",
    "\n",
    "    model.objective = xsum(y[j]*cost_fixed[j] for j in range(m)) +  xsum(x[i][j]*cost[i][j] for i in range(n) for j in range(m))\n",
    "\n",
    "    for j in range(m):\n",
    "        model += xsum(x[i][j]*demand[i] for i in range(n))<= capacity[j]*y[j]\n",
    "\n",
    "    for i in range(n):\n",
    "            model += xsum(x[i][j]*demand[i] for j in range(m))>= demand[i]\n",
    "\n",
    "    for j in range(m):\n",
    "        for i in range(n):\n",
    "                model+= x[i][j]<=demand[i]*y[j]\n",
    "\n",
    "    if cut_code == 0:\n",
    "         model.cuts = cut_plan     \n",
    "    elif cut_plan in ['GOMORY', 'KNAPSACK_COVER', 'CLIQUE', 'LIFT']:\n",
    "        if model.solver_name.lower() == \"cbc\":\n",
    "            model.optimize(relax = True)\n",
    "            cp = model.generate_cuts([CutType.GOMORY])\n",
    "            if cp.cuts:\n",
    "                model += cp\n",
    "    else:\n",
    "         model.cuts = -1                \n",
    "\n",
    "    file = filename[8:13]            \n",
    "\n",
    "    setting = f\"{m*n}_{cut_plan},\" \n",
    "    log =  f\"log_{m*n}_{cut_plan}_{now}\"                  \n",
    "               \n",
    "\n",
    "    model.write('capacitaded_problem.lp')\n",
    "\n",
    "    model.optimize(max_seconds= 400)\n",
    "    progress = model.search_progress_log\n",
    "    progress.instance = setting\n",
    "    progress.write(f'./logs/{log}')\n",
    "    results = model.objective_value\n",
    "    return results\n",
    "    "
   ]
  },
  {
   "cell_type": "code",
   "execution_count": 341,
   "metadata": {},
   "outputs": [],
   "source": [
    "#filename = '../data/cap134.txt'\n",
    "#filename = '../data/cap41.txt'\n",
    "#filename = '../data/capa.txt'"
   ]
  },
  {
   "cell_type": "code",
   "execution_count": 367,
   "metadata": {},
   "outputs": [],
   "source": [
    "resultados = {}\n",
    "demand, capacity, cost, cost_fixed  = montar_arquivo(filename)\n",
    "for i in range(4):\n",
    "    for cut_name in ['AUTOMATIC', 'GOMORY', 'KNAPSACK_COVER', 'CLIQUE', 'LIFT']:\n",
    "        resultados[cut_name] =  solve_model(demand, capacity, cost, cost_fixed, filename, cut_plan = cut_name) "
   ]
  },
  {
   "cell_type": "code",
   "execution_count": 369,
   "metadata": {},
   "outputs": [],
   "source": [
    "caminho = './logs/log_2500_AUTOMATIC_2023-07-18_22_38_40.plog'"
   ]
  },
  {
   "cell_type": "code",
   "execution_count": 459,
   "metadata": {},
   "outputs": [],
   "source": [
    "conteudo = []\n",
    "\n",
    "with open(caminho)  as f:\n",
    "    for line in f:\n",
    "        conteudo.append(line.strip(','))"
   ]
  },
  {
   "cell_type": "code",
   "execution_count": 460,
   "metadata": {},
   "outputs": [],
   "source": [
    "lista = conteudo[0].split(',')"
   ]
  },
  {
   "cell_type": "code",
   "execution_count": 492,
   "metadata": {},
   "outputs": [],
   "source": [
    "tempo = {'Instancia':[],\n",
    "        'Duracao': []}\n",
    "\n",
    "limites = {'Instancia':[],        \n",
    "        'Lower_Bound': [],\n",
    "         'Upper_Bound': []}"
   ]
  },
  {
   "cell_type": "code",
   "execution_count": 488,
   "metadata": {},
   "outputs": [],
   "source": [
    "tempo['Instancia'].append(lista[0].split(':')[1].strip(' '))\n",
    "tempo['Duracao'].append(float(lista[1].split(':')[1].strip(' ')))"
   ]
  },
  {
   "cell_type": "code",
   "execution_count": 493,
   "metadata": {},
   "outputs": [],
   "source": [
    "n = len(lista[2:])\n",
    "\n",
    "for i in range(2,n):    \n",
    "    if i%2 == 0:\n",
    "        limites['Instancia'].append(lista[0].split(':')[1].strip(' '))\n",
    "        try:\n",
    "            value = float(lista[i])   \n",
    "        except ValueError as ex:\n",
    "            value = float(lista[i].split('.')[0])  \n",
    "            if value == 1:\n",
    "                value = INF       \n",
    "        limites['Lower_Bound'].append((value))\n",
    "    else:\n",
    "        try:\n",
    "            value = float(lista[i])\n",
    "        except ValueError as ex:\n",
    "            value = float(lista[i].split('.')[0])\n",
    "            if value == 1:\n",
    "                value = INF \n",
    "        limites['Upper_Bound'].append(value) "
   ]
  },
  {
   "cell_type": "code",
   "execution_count": 483,
   "metadata": {},
   "outputs": [
    {
     "data": {
      "text/plain": [
       "{'Instancia': ['2500_AUTOMATIC'],\n",
       " 'Duracao': [0.002796173095703125],\n",
       " 'Lower_Bound': [650936.282786555, 650936.282786555, 928941.7500000001],\n",
       " 'Upper_Bound': [inf, inf, 928941.0]}"
      ]
     },
     "execution_count": 483,
     "metadata": {},
     "output_type": "execute_result"
    }
   ],
   "source": []
  },
  {
   "cell_type": "code",
   "execution_count": 491,
   "metadata": {},
   "outputs": [
    {
     "data": {
      "text/plain": [
       "{'Instancia': ['2500_AUTOMATIC',\n",
       "  '2500_AUTOMATIC',\n",
       "  '2500_AUTOMATIC',\n",
       "  '2500_AUTOMATIC',\n",
       "  '2500_AUTOMATIC',\n",
       "  '2500_AUTOMATIC'],\n",
       " 'Lower_Bound': [650936.282786555, 650936.282786555, 928941.7500000001],\n",
       " 'Upper_Bound': [inf, inf, 928941.0]}"
      ]
     },
     "execution_count": 491,
     "metadata": {},
     "output_type": "execute_result"
    }
   ],
   "source": [
    "limites"
   ]
  },
  {
   "cell_type": "code",
   "execution_count": 494,
   "metadata": {},
   "outputs": [
    {
     "data": {
      "text/html": [
       "<div>\n",
       "<style scoped>\n",
       "    .dataframe tbody tr th:only-of-type {\n",
       "        vertical-align: middle;\n",
       "    }\n",
       "\n",
       "    .dataframe tbody tr th {\n",
       "        vertical-align: top;\n",
       "    }\n",
       "\n",
       "    .dataframe thead th {\n",
       "        text-align: right;\n",
       "    }\n",
       "</style>\n",
       "<table border=\"1\" class=\"dataframe\">\n",
       "  <thead>\n",
       "    <tr style=\"text-align: right;\">\n",
       "      <th></th>\n",
       "      <th>Instancia</th>\n",
       "      <th>Lower_Bound</th>\n",
       "      <th>Upper_Bound</th>\n",
       "    </tr>\n",
       "  </thead>\n",
       "  <tbody>\n",
       "    <tr>\n",
       "      <th>0</th>\n",
       "      <td>2500_AUTOMATIC</td>\n",
       "      <td>650936.282787</td>\n",
       "      <td>inf</td>\n",
       "    </tr>\n",
       "    <tr>\n",
       "      <th>1</th>\n",
       "      <td>2500_AUTOMATIC</td>\n",
       "      <td>650936.282787</td>\n",
       "      <td>inf</td>\n",
       "    </tr>\n",
       "    <tr>\n",
       "      <th>2</th>\n",
       "      <td>2500_AUTOMATIC</td>\n",
       "      <td>928941.750000</td>\n",
       "      <td>928941.0</td>\n",
       "    </tr>\n",
       "  </tbody>\n",
       "</table>\n",
       "</div>"
      ],
      "text/plain": [
       "        Instancia    Lower_Bound  Upper_Bound\n",
       "0  2500_AUTOMATIC  650936.282787          inf\n",
       "1  2500_AUTOMATIC  650936.282787          inf\n",
       "2  2500_AUTOMATIC  928941.750000     928941.0"
      ]
     },
     "execution_count": 494,
     "metadata": {},
     "output_type": "execute_result"
    }
   ],
   "source": [
    "pd.DataFrame.from_dict(limites)"
   ]
  },
  {
   "cell_type": "code",
   "execution_count": 348,
   "metadata": {},
   "outputs": [
    {
     "data": {
      "text/html": [
       "<div>\n",
       "<style scoped>\n",
       "    .dataframe tbody tr th:only-of-type {\n",
       "        vertical-align: middle;\n",
       "    }\n",
       "\n",
       "    .dataframe tbody tr th {\n",
       "        vertical-align: top;\n",
       "    }\n",
       "\n",
       "    .dataframe thead th {\n",
       "        text-align: right;\n",
       "    }\n",
       "</style>\n",
       "<table border=\"1\" class=\"dataframe\">\n",
       "  <thead>\n",
       "    <tr style=\"text-align: right;\">\n",
       "      <th></th>\n",
       "      <th>instance: 2500_AUTOMATICsettings: 0.0015130043029785156</th>\n",
       "      <th>650936.282786555</th>\n",
       "      <th>1.7976931348623157e+3080.03940606117248535</th>\n",
       "      <th>650936.282786555.1</th>\n",
       "      <th>1.7976931348623157e+3080.21692895889282227</th>\n",
       "      <th>928941.7500000001</th>\n",
       "      <th>928941.75000000010.21697688102722168</th>\n",
       "      <th>928941.7500000001.1</th>\n",
       "      <th>928941.7500000001.2</th>\n",
       "    </tr>\n",
       "  </thead>\n",
       "  <tbody>\n",
       "  </tbody>\n",
       "</table>\n",
       "</div>"
      ],
      "text/plain": [
       "Empty DataFrame\n",
       "Columns: [instance: 2500_AUTOMATICsettings: 0.0015130043029785156, 650936.282786555, 1.7976931348623157e+3080.03940606117248535, 650936.282786555.1, 1.7976931348623157e+3080.21692895889282227, 928941.7500000001, 928941.75000000010.21697688102722168, 928941.7500000001.1, 928941.7500000001.2]\n",
       "Index: []"
      ]
     },
     "execution_count": 348,
     "metadata": {},
     "output_type": "execute_result"
    }
   ],
   "source": [
    "pd.read_csv('./logs/log_2500_AUTOMATIC_2023-07-18_22_25_17.plog', delimiter= ',')"
   ]
  },
  {
   "cell_type": "code",
   "execution_count": 308,
   "metadata": {},
   "outputs": [
    {
     "data": {
      "text/plain": [
       "<OptimizationStatus.OPTIMAL: 0>"
      ]
     },
     "execution_count": 308,
     "metadata": {},
     "output_type": "execute_result"
    }
   ],
   "source": [
    "model = Model()\n",
    "#model.cuts = 0\n",
    "\n",
    "m = len(capacity)\n",
    "\n",
    "n = len(demand)\n",
    "\n",
    "model.store_search_progress_log = True\n",
    "\n",
    "x = [[model.add_var(name = f'x{i}{j}', lb = 0, ub = 1) for j in range(m)] for i in range(n)]\n",
    "y = [model.add_var(name = f'y{j}', var_type = BINARY) for j in range(m)]\n",
    "\n",
    "model.objective = xsum(y[j]*cost_fixed[j] for j in range(m)) +  xsum(x[i][j]*cost[i][j] for i in range(n) for j in range(m))\n",
    "\n",
    "for j in range(m):\n",
    "    model += xsum(x[i][j]*demand[i] for i in range(n))<= capacity[j]*y[j]\n",
    "\n",
    "for i in range(n):\n",
    "    model += xsum(x[i][j]*demand[i] for j in range(m))>= demand[i]\n",
    "\n",
    "for j in range(m):\n",
    "    for i in range(n):\n",
    "        model+= x[i][j]<=demand[i]*y[j]\n",
    "\n",
    "model.optimize(relax = True)\n",
    "\n",
    "cp = model.generate_cuts([CutType.GOMORY])\n",
    "        \n",
    "\n",
    "model.write('capacitaded_problem.lp')\n",
    "\n",
    "model.optimize()\n",
    "#progress = model.search_progress_log\n",
    "#progress.instance = 'teste'\n",
    "#progress.write('log')"
   ]
  }
 ],
 "metadata": {
  "kernelspec": {
   "display_name": "pl",
   "language": "python",
   "name": "python3"
  },
  "language_info": {
   "codemirror_mode": {
    "name": "ipython",
    "version": 3
   },
   "file_extension": ".py",
   "mimetype": "text/x-python",
   "name": "python",
   "nbconvert_exporter": "python",
   "pygments_lexer": "ipython3",
   "version": "3.7.13"
  },
  "orig_nbformat": 4
 },
 "nbformat": 4,
 "nbformat_minor": 2
}
