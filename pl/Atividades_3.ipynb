{
 "cells": [
  {
   "cell_type": "code",
   "execution_count": 1,
   "metadata": {},
   "outputs": [],
   "source": [
    "from pulp import *"
   ]
  },
  {
   "cell_type": "code",
   "execution_count": 2,
   "metadata": {},
   "outputs": [
    {
     "name": "stdout",
     "output_type": "stream",
     "text": [
      "Status:  Optimal\n",
      "x1 =  0.0\n",
      "x2 =  0.0\n",
      "x3 =  16.666667\n",
      "Valor mínimo =  83.333335\n"
     ]
    }
   ],
   "source": [
    "# Problema do sapateiro - Exemplo de aula\n",
    "prob = LpProblem(\"Exercicio_1\", LpMinimize)\n",
    "\n",
    "# Definicao das variaveis de decisao\n",
    "x1 = LpVariable(\"x1\", 0, None)\n",
    "x2 = LpVariable(\"x2\", 0, None)\n",
    "x3 = LpVariable(\"x3\", 0, None)\n",
    "\n",
    "# Definicao da funcao objetivo\n",
    "prob += 10*x1 + 4*x2 + 5*x3\n",
    "\n",
    "# Definicao das restricoes\n",
    "prob += 5*x1 + -7*x2 + 3*x3 >= 50\n",
    "\n",
    "#prob.writeLP(\"Letra_a\")\n",
    "\n",
    "# Resolvendo o problema\n",
    "prob.solve()\n",
    "\n",
    "# Status de solucao do problema\n",
    "print('Status: ', LpStatus[prob.status])\n",
    "\n",
    "# Imprimindo os valores das variaveis de decisao\n",
    "for v in prob.variables():\n",
    "    print(v.name, \"= \", v.varValue)\n",
    "\n",
    "# Lucro total\n",
    "print(\"Valor mínimo = \", value(prob.objective)) \n"
   ]
  },
  {
   "cell_type": "code",
   "execution_count": 2,
   "metadata": {},
   "outputs": [
    {
     "name": "stdout",
     "output_type": "stream",
     "text": [
      "Status:  Optimal\n",
      "x1 =  3.0\n",
      "x2 =  0.0\n",
      "Valor mínimo =  15.0\n"
     ]
    }
   ],
   "source": [
    "# Problema do sapateiro - Exemplo de aula\n",
    "prob = LpProblem(\"Exercicio_2\", LpMinimize)\n",
    "\n",
    "# Definicao das variaveis de decisao\n",
    "x1 = LpVariable(\"x1\", 0, None)\n",
    "x2 = LpVariable(\"x2\", 0, None)\n",
    "\n",
    "\n",
    "# Definicao da funcao objetivo\n",
    "prob += 5*x1 + 2*x2 \n",
    "\n",
    "# Definicao das restricoes\n",
    "prob += x1 - x2 >= 3\n",
    "prob += 2*x1 + 3*x2 >= 5\n",
    "\n",
    "\n",
    "#prob.writeLP(\"Letra_a\")\n",
    "\n",
    "# Resolvendo o problema\n",
    "prob.solve()\n",
    "\n",
    "# Status de solucao do problema\n",
    "print('Status: ', LpStatus[prob.status])\n",
    "\n",
    "# Imprimindo os valores das variaveis de decisao\n",
    "for v in prob.variables():\n",
    "    print(v.name, \"= \", v.varValue)\n",
    "\n",
    "# Lucro total\n",
    "print(\"Valor mínimo = \", value(prob.objective)) "
   ]
  },
  {
   "cell_type": "code",
   "execution_count": 3,
   "metadata": {},
   "outputs": [
    {
     "name": "stdout",
     "output_type": "stream",
     "text": [
      "Status:  Optimal\n",
      "x1 =  5.0\n",
      "x2 =  0.0\n",
      "Valor mínimo =  15.0\n"
     ]
    }
   ],
   "source": [
    "# Problema do sapateiro - Exemplo de aula\n",
    "prob = LpProblem(\"Exercicio_2\", LpMaximize)\n",
    "\n",
    "# Definicao das variaveis de decisao\n",
    "x1 = LpVariable(\"x1\", 0, None)\n",
    "x2 = LpVariable(\"x2\", 0, None)\n",
    "\n",
    "\n",
    "# Definicao da funcao objetivo\n",
    "prob += 3*x1 + 5*x2 \n",
    "\n",
    "# Definicao das restricoes\n",
    "prob += x1 + 2*x2 <= 5\n",
    "prob += -x1 + 3*x2 <= 2\n",
    "\n",
    "\n",
    "#prob.writeLP(\"Letra_a\")\n",
    "\n",
    "# Resolvendo o problema\n",
    "prob.solve()\n",
    "\n",
    "# Status de solucao do problema\n",
    "print('Status: ', LpStatus[prob.status])\n",
    "\n",
    "# Imprimindo os valores das variaveis de decisao\n",
    "for v in prob.variables():\n",
    "    print(v.name, \"= \", v.varValue)\n",
    "\n",
    "# Lucro total\n",
    "print(\"Valor mínimo = \", value(prob.objective)) "
   ]
  }
 ],
 "metadata": {
  "kernelspec": {
   "display_name": "Python 3",
   "language": "python",
   "name": "python3"
  },
  "language_info": {
   "codemirror_mode": {
    "name": "ipython",
    "version": 3
   },
   "file_extension": ".py",
   "mimetype": "text/x-python",
   "name": "python",
   "nbconvert_exporter": "python",
   "pygments_lexer": "ipython3",
   "version": "3.11.0"
  },
  "orig_nbformat": 4
 },
 "nbformat": 4,
 "nbformat_minor": 2
}
