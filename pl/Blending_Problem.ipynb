{
 "cells": [
  {
   "cell_type": "code",
   "execution_count": 2,
   "metadata": {},
   "outputs": [],
   "source": [
    "from pulp import *"
   ]
  },
  {
   "cell_type": "code",
   "execution_count": 2,
   "metadata": {},
   "outputs": [
    {
     "name": "stderr",
     "output_type": "stream",
     "text": [
      "c:\\Users\\CG395UV\\OneDrive - EY\\Documents\\Doutorado_JP\\Programacao_Linear\\pl\\lib\\site-packages\\pulp\\pulp.py:1352: UserWarning: Spaces are not permitted in the name. Converted to '_'\n",
      "  warnings.warn(\"Spaces are not permitted in the name. Converted to '_'\")\n"
     ]
    }
   ],
   "source": [
    "# Create the prob variable to contain the problem data\n",
    "prob = LpProblem(\"The Whiskas Problem\", LpMinimize)"
   ]
  },
  {
   "cell_type": "code",
   "execution_count": 3,
   "metadata": {},
   "outputs": [],
   "source": [
    "# The 2 variables Beef and chicken are created with a lower limit of zero\n",
    "x1 = LpVariable(\"ChikenPercent\", 0, None, LpInteger)\n",
    "x2 = LpVariable(\"BeefPercent\", 0)"
   ]
  },
  {
   "cell_type": "code",
   "execution_count": 4,
   "metadata": {},
   "outputs": [],
   "source": [
    "# The objective function is added to prob first \n",
    "prob += 0.013 * x1 + 0.008 * x2 , \"Total Cost of Ingredients per can\""
   ]
  },
  {
   "cell_type": "code",
   "execution_count": 5,
   "metadata": {},
   "outputs": [],
   "source": [
    "# The five constraints are entered\n",
    "prob += x1 + x2 == 100\n",
    "prob += 0.100 * x1 + 0.200 * x2 >= 0.8, \"ProteinRequiremnt\"\n",
    "prob += 0.080 * x1 + 0.100 * x2 >= 6.0, \"FatRequirement\"\n",
    "prob += 0.001 * x1 + 0.005 * x2 <= 2.0, \"FibreRequiremnt\"\n",
    "prob += 0.002 * x1 + 0.005 * x2 <= 0.4, \"SaltRequirement\""
   ]
  },
  {
   "cell_type": "code",
   "execution_count": 6,
   "metadata": {},
   "outputs": [
    {
     "data": {
      "text/plain": [
       "[BeefPercent, ChikenPercent]"
      ]
     },
     "execution_count": 6,
     "metadata": {},
     "output_type": "execute_result"
    }
   ],
   "source": [
    "# The problem data is written to an .lp file\n",
    "prob.writeLP(\"WhiskasModel.lp\")"
   ]
  },
  {
   "cell_type": "code",
   "execution_count": 7,
   "metadata": {},
   "outputs": [
    {
     "data": {
      "text/plain": [
       "1"
      ]
     },
     "execution_count": 7,
     "metadata": {},
     "output_type": "execute_result"
    }
   ],
   "source": [
    "# The problem is solved using PULP's choice of solver \n",
    "prob.solve()"
   ]
  },
  {
   "cell_type": "code",
   "execution_count": 8,
   "metadata": {},
   "outputs": [
    {
     "name": "stdout",
     "output_type": "stream",
     "text": [
      "Status:  Optimal\n"
     ]
    }
   ],
   "source": [
    "# The status of the solution is printed to the screen\n",
    "print('Status: ', LpStatus[prob.status])"
   ]
  },
  {
   "cell_type": "code",
   "execution_count": 9,
   "metadata": {},
   "outputs": [
    {
     "name": "stdout",
     "output_type": "stream",
     "text": [
      "BeefPercent =  66.0\n",
      "ChikenPercent =  34.0\n"
     ]
    }
   ],
   "source": [
    "# Each of the variables is printed with it's resolved optimum value\n",
    "for v in prob.variables():\n",
    "    print(v.name, \"= \", v.varValue)"
   ]
  },
  {
   "cell_type": "code",
   "execution_count": 10,
   "metadata": {},
   "outputs": [
    {
     "name": "stdout",
     "output_type": "stream",
     "text": [
      "Total cost of Ingredients per can =  0.97\n"
     ]
    }
   ],
   "source": [
    "# The optimized objective function value is printed to the screen\n",
    "print(\"Total cost of Ingredients per can = \", value(prob.objective))"
   ]
  },
  {
   "attachments": {},
   "cell_type": "markdown",
   "metadata": {},
   "source": [
    "#### Solution to Full Problem"
   ]
  },
  {
   "cell_type": "code",
   "execution_count": 3,
   "metadata": {},
   "outputs": [
    {
     "name": "stderr",
     "output_type": "stream",
     "text": [
      "c:\\Users\\CG395UV\\OneDrive - EY\\Documents\\Doutorado_JP\\Programacao_Linear\\pl\\lib\\site-packages\\pulp\\pulp.py:1352: UserWarning: Spaces are not permitted in the name. Converted to '_'\n",
      "  warnings.warn(\"Spaces are not permitted in the name. Converted to '_'\")\n"
     ]
    },
    {
     "data": {
      "text/plain": [
       "1"
      ]
     },
     "execution_count": 3,
     "metadata": {},
     "output_type": "execute_result"
    }
   ],
   "source": [
    "# Create a List of the Ingredients\n",
    "Ingredients = [\"CHICKEN\", \"BEEF\", \"MUTTON\", \"RICE\", \"WHEAT\", \"GEL\"]\n",
    "\n",
    "# A dictionary of the costs of each of the ingredients is created\n",
    "costs = {\n",
    "    \"CHICKEN\": 0.013,\n",
    "    \"BEEF\": 0.008,\n",
    "    \"MUTTON\": 0.010,\n",
    "    \"RICE\": 0.002,\n",
    "    \"WHEAT\": 0.005,\n",
    "    \"GEL\": 0.001\n",
    "}\n",
    "\n",
    "# A dictionary of the protein percent in each of the Ingredients is created\n",
    "proteinPercent = {\n",
    "    \"CHICKEN\": 0.100,\n",
    "    \"BEEF\": 0.200,\n",
    "    \"MUTTON\": 0.150,\n",
    "    \"RICE\": 0.000,\n",
    "    \"WHEAT\": 0.040,\n",
    "    \"GEL\": 0.000\n",
    "}\n",
    "\n",
    "# A dictionary of the fat percent in each of the Ingredients is created\n",
    "fatPercent = {\n",
    "    \"CHICKEN\": 0.080,\n",
    "    \"BEEF\": 0.100,\n",
    "    \"MUTTON\": 0.110,\n",
    "    \"RICE\": 0.010,\n",
    "    \"WHEAT\": 0.010,\n",
    "    \"GEL\": 0.000\n",
    "}\n",
    "\n",
    "# A dictionary of the fibre percent in each of the Ingredients is created\n",
    "fibrePercent = {\n",
    "    \"CHICKEN\": 0.001,\n",
    "    \"BEEF\": 0.005,\n",
    "    \"MUTTON\": 0.003,\n",
    "    \"RICE\": 0.100,\n",
    "    \"WHEAT\": 0.150,\n",
    "    \"GEL\": 0.000\n",
    "}\n",
    "\n",
    "# A dictionary of the salt percent in each of the Ingredients is created\n",
    "saltPercent = {\n",
    "    \"CHICKEN\": 0.002,\n",
    "    \"BEEF\": 0.005,\n",
    "    \"MUTTON\": 0.007,\n",
    "    \"RICE\": 0.002,\n",
    "    \"WHEAT\": 0.008,\n",
    "    \"GEL\": 0.000\n",
    "}\n",
    "\n",
    "# Create the prob variable to contain the problem data\n",
    "prob = LpProblem(\"The Whiskas Problem\", LpMinimize)\n",
    "\n",
    "# A dictionary called 'ingredients var' is created to contain the referenced Variables\n",
    "ingredient_vars = LpVariable.dicts(\"Ingr\", Ingredients, 0)\n",
    "\n",
    "# The objective function is added to 'prob' first\n",
    "prob += (\n",
    "    lpSum([costs[i] * ingredient_vars[i] for i in Ingredients]),\n",
    "    \"Total Cost of Ingredients per Can\"\n",
    ")\n",
    "\n",
    "# The five constraints are added to 'prob'\n",
    "prob += lpSum([ingredient_vars[i] for i in Ingredients]) == 100, \"PercentageSum\"\n",
    "prob += (\n",
    "    lpSum([proteinPercent[i] * ingredient_vars[i] for i in Ingredients]) >= 8.0, \n",
    "    \"ProteinRequirement\",\n",
    ")\n",
    "prob += (\n",
    "    lpSum([fatPercent[i] * ingredient_vars[i] for i in Ingredients]) >= 6.0,\n",
    "    \"FatRequirement\"\n",
    ")\n",
    "prob += (\n",
    "    lpSum([fibrePercent[i]*ingredient_vars[i] for i in Ingredients]) <= 2.0,\n",
    "    \"FibreRequirement\", \n",
    ")\n",
    "prob += (\n",
    "    lpSum([saltPercent[i]*ingredient_vars[i] for i in Ingredients]) <= 0.4,\n",
    "    \"SaltRequirement\"\n",
    ")\n",
    "\n",
    "# The problem data is written to an .lp file\n",
    "prob.writeLP(\"WhiskasModel.lp\")\n",
    "\n",
    "# The problem is solved using PULP's choice of solver \n",
    "prob.solve()"
   ]
  },
  {
   "cell_type": "code",
   "execution_count": 16,
   "metadata": {},
   "outputs": [
    {
     "name": "stdout",
     "output_type": "stream",
     "text": [
      "Status:  Optimal\n",
      "Ingr_BEEF =  60.0\n",
      "Ingr_CHICKEN =  0.0\n",
      "Ingr_GEL =  40.0\n",
      "Ingr_MUTTON =  0.0\n",
      "Ingr_RICE =  0.0\n",
      "Ingr_WHEAT =  0.0\n"
     ]
    }
   ],
   "source": [
    "# The status of the solution is printed to the screen\n",
    "print('Status: ', LpStatus[prob.status])\n",
    "\n",
    "# Each of the variables is printed with it's resolved optimum value\n",
    "for v in prob.variables():\n",
    "    print(v.name, \"= \", v.varValue)"
   ]
  },
  {
   "cell_type": "code",
   "execution_count": 17,
   "metadata": {},
   "outputs": [
    {
     "name": "stdout",
     "output_type": "stream",
     "text": [
      "Total cost of Ingredients per can =  0.52\n"
     ]
    }
   ],
   "source": [
    "# The optimized objective function value is printed to the screen\n",
    "print(\"Total cost of Ingredients per can = \", value(prob.objective))"
   ]
  },
  {
   "cell_type": "code",
   "execution_count": null,
   "metadata": {},
   "outputs": [],
   "source": []
  }
 ],
 "metadata": {
  "kernelspec": {
   "display_name": "pl",
   "language": "python",
   "name": "python3"
  },
  "language_info": {
   "codemirror_mode": {
    "name": "ipython",
    "version": 3
   },
   "file_extension": ".py",
   "mimetype": "text/x-python",
   "name": "python",
   "nbconvert_exporter": "python",
   "pygments_lexer": "ipython3",
   "version": "3.7.13"
  },
  "orig_nbformat": 4
 },
 "nbformat": 4,
 "nbformat_minor": 2
}
