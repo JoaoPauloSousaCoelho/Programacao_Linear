{
 "cells": [
  {
   "cell_type": "code",
   "execution_count": 7,
   "metadata": {},
   "outputs": [],
   "source": [
    "from pymprog import model\n",
    "import pandas as pd"
   ]
  },
  {
   "cell_type": "code",
   "execution_count": 8,
   "metadata": {},
   "outputs": [],
   "source": [
    "# Define as fábricas\n",
    "F = ['1', '2', '3', '4']\n",
    "\n",
    "# Define o custo de producao em cada uma das montadoras\n",
    "Custo = {\"1\": 15, \"2\": 10, \"3\": 9, \"4\": 7}\n",
    "\n",
    "# Define a qtde de mao de obra empregada na producao por carro de cada fabrica\n",
    "MB = {\"1\": 2, \"2\": 3, \"3\": 4, \"4\": 5}\n",
    "\n",
    "# Define a qtde de materia prima empregada na producao por carro de cada fabrica\n",
    "MP = {\"1\": 3, \"2\": 4, \"3\": 5, \"4\": 6}"
   ]
  },
  {
   "cell_type": "code",
   "execution_count": 9,
   "metadata": {},
   "outputs": [
    {
     "name": "stdout",
     "output_type": "stream",
     "text": [
      "Custo Mínimo: 11600.0\n",
      "\n",
      "PyMathProg 1.0 Sensitivity Report Created: 2023/05/15 Mon 20:54PM\n",
      "================================================================================\n",
      "Variable            Activity   Dual.Value     Obj.Coef   Range.From   Range.Till\n",
      "--------------------------------------------------------------------------------\n",
      "*Fab['1']                400            0           15         11.5 1.79769e+308\n",
      "*Fab['2']                200            0           10 -1.79769e+308           12\n",
      " Fab['3']                400            4            9            5          inf\n",
      " Fab['4']                  0            7            7            0          inf\n",
      "================================================================================\n",
      "================================================================================\n",
      "Constraint       Activity Dual.Value  Lower.Bnd  Upper.Bnd RangeLower RangeUpper\n",
      "--------------------------------------------------------------------------------\n",
      "*R1                  3000          0       -inf       3300       3000       3000\n",
      " R2                  4000         -5       -inf       4000       3800       4300\n",
      " R3                  1000         30       1000        inf        900    1066.67\n",
      "================================================================================\n"
     ]
    },
    {
     "data": {
      "text/plain": [
       "model('basic') is not the default model."
      ]
     },
     "execution_count": 9,
     "metadata": {},
     "output_type": "execute_result"
    }
   ],
   "source": [
    "# Declaração do modelo\n",
    "p = model('basic')\n",
    "x = p.var('Fab', F)\n",
    "\n",
    "# Função Objetivo\n",
    "p.minimize(sum(x[f] * Custo[f] for f in F))\n",
    "\n",
    "# Restrição total de mão de obra disponível\n",
    "sum(x[f]*MB[f] for f in F)<= 3_300\n",
    "\n",
    "# Restrição total de matéria prima disponível\n",
    "sum(x[f]*MP[f] for f in F)<= 4_000\n",
    "\n",
    "# Minimo de veículos a ser produzido\n",
    "sum(x[f] for f in F) >= 1_000\n",
    "\n",
    "# Restrição sindical de produção mínima na Fábrica 3\n",
    "x['3'] >= 400\n",
    "\n",
    "p.solve()\n",
    "\n",
    "# Valor do Custo Mínimo\n",
    "print(f'Custo Mínimo: {p.vobj()}')\n",
    "\n",
    "# Imprimir os dados de sensitividade\n",
    "p.sensitivity()\n",
    "\n",
    "p.end()\n"
   ]
  },
  {
   "attachments": {},
   "cell_type": "markdown",
   "metadata": {},
   "source": [
    "### Respostas\n",
    "\n",
    "- Questão 1:\n",
    "\n",
    "| Fábrica | Quantidade |\n",
    "| :---: | :-----: |\n",
    "| 1 | 400 |\n",
    "| 2 | 200 |\n",
    "| 3 | 400 |\n",
    "| 4 | 0   |\n",
    "\n",
    "- Questão 2:\n",
    "*Esse valor é dado pelo shadow price da Restrição 3: cada unidade de carro produzida a mais representa um custo adicional de $30 mil, ao passo que, um carro que deixa de ser produzido representa um decréscimo de $30 mil no valor do custo total*\n",
    "\n",
    "- Questão 3:\n",
    "*A solução não se alteraria, visto que limite inferior é igual a -infinito. O custo seria reduzido em $2 mil por unidade (10-8) mil. Multiplicando-se esse valor por 200, obter-se-ia uma redução de $400 mil.*\n",
    "\n",
    "- Questão 4:\n",
    "*O custo do acordo pode ser obtido pelo valor do shadow price da Fábrica 3: $4 mil por unidade produzida. Economia proveniente da redução de carros: (400 - 250) x 4000 = $600 mil*\n",
    "\n",
    "- Questão 5:\n",
    "*$120 mil, o qual é dado limite do coeficiente do custo*\n",
    "\n",
    " "
   ]
  }
 ],
 "metadata": {
  "kernelspec": {
   "display_name": "Python 3",
   "language": "python",
   "name": "python3"
  },
  "language_info": {
   "codemirror_mode": {
    "name": "ipython",
    "version": 3
   },
   "file_extension": ".py",
   "mimetype": "text/x-python",
   "name": "python",
   "nbconvert_exporter": "python",
   "pygments_lexer": "ipython3",
   "version": "3.7.13"
  },
  "orig_nbformat": 4
 },
 "nbformat": 4,
 "nbformat_minor": 2
}
